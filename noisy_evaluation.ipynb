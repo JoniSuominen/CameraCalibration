{
 "cells": [
  {
   "cell_type": "markdown",
   "metadata": {},
   "source": [
    "# Colour Correction using Splines"
   ]
  },
  {
   "cell_type": "markdown",
   "metadata": {},
   "source": [
    "### Define constants"
   ]
  },
  {
   "cell_type": "code",
   "execution_count": 18,
   "metadata": {},
   "outputs": [
    {
     "name": "stdout",
     "output_type": "stream",
     "text": [
      "The autoreload extension is already loaded. To reload it, use:\n",
      "  %reload_ext autoreload\n"
     ]
    }
   ],
   "source": [
    "%load_ext autoreload\n",
    "%autoreload 2\n",
    "import colour\n",
    "from data import load_dataset_sfu, load_dataset_csv, load_cmfs, load_camera, load_insitu, msds_to_rgb, msds_to_xyz, load_dataset_skin\n",
    "import numpy as np\n",
    "\n",
    "RANDOM_STATE = 0\n",
    "np.random.seed(RANDOM_STATE)\n",
    "    \n",
    "SFU_FILE_PATH = 'data/reflect_db.reflect'\n",
    "CAVE_FOSTER2004_PATH = 'data/cave_foster2002.csv'\n",
    "INSITU_PATH = \"data/insitu_dataset.csv\"\n",
    "CAVE_PATH = 'data/cave.csv'\n",
    "FOSTER_50_PATH = 'data/foster50.csv'\n",
    "CAMERA = 'sigma'"
   ]
  },
  {
   "cell_type": "code",
   "execution_count": 19,
   "metadata": {},
   "outputs": [],
   "source": [
    "\n",
    "# sfu_dataset = load_dataset_sfu(SFU_FILE_PATH)\n",
    "cave_foster2004_dataset = load_dataset_csv(CAVE_FOSTER2004_PATH)\n",
    "foster_50_dataset = load_dataset_csv(FOSTER_50_PATH)\n",
    "insitu = load_insitu(INSITU_PATH)\n",
    "# cave = load_dataset_csv(CAVE_PATH)\n",
    "# skin = load_dataset_skin()\n"
   ]
  },
  {
   "cell_type": "code",
   "execution_count": 20,
   "metadata": {},
   "outputs": [],
   "source": [
    "from plotting import plot_chromaticity_diagram\n",
    "TRAIN = insitu\n",
    "TEST = foster_50_dataset\n",
    "VALIDATION = insitu"
   ]
  },
  {
   "cell_type": "markdown",
   "metadata": {},
   "source": [
    "### Computing Observer Responses\n",
    "We can easily change the order of test and train sets here"
   ]
  },
  {
   "cell_type": "code",
   "execution_count": 21,
   "metadata": {},
   "outputs": [
    {
     "name": "stdout",
     "output_type": "stream",
     "text": [
      "[ 0.94940092  1.          1.08709122]\n",
      "[ 0.94940092  1.          1.08709122]\n",
      "[ 0.94940092  1.          1.08709122]\n"
     ]
    }
   ],
   "source": [
    "from plotting import plot_chromaticity_diagram\n",
    "\n",
    "cmfs, illuminant = load_cmfs()\n",
    "response_trainset_xyz = msds_to_xyz(TRAIN, cmfs, illuminant)\n",
    "response_testset_xyz = msds_to_xyz(TEST, cmfs, illuminant)\n",
    "response_validation_xyz = msds_to_xyz(VALIDATION, cmfs, illuminant)"
   ]
  },
  {
   "cell_type": "markdown",
   "metadata": {},
   "source": [
    "### Computing Camera Responses"
   ]
  },
  {
   "cell_type": "code",
   "execution_count": 22,
   "metadata": {},
   "outputs": [
    {
     "name": "stdout",
     "output_type": "stream",
     "text": [
      "[  938.7258382   1714.98576086  1939.82119587]\n",
      "[  938.7258382   1714.98576086  1939.82119587]\n",
      "[  938.7258382   1714.98576086  1939.82119587]\n"
     ]
    }
   ],
   "source": [
    "from utilities import add_noise\n",
    "MSDS_TRAIN = load_camera(CAMERA)\n",
    "response_trainset_camera = msds_to_rgb(TRAIN,MSDS_TRAIN, illuminant)\n",
    "response_testset_camera = msds_to_rgb(TEST,MSDS_TRAIN, illuminant)\n",
    "response_validationset_camera = msds_to_rgb(VALIDATION,MSDS_TRAIN, illuminant)\n",
    "noise_gauss = 0.01\n",
    "noise_poiss = 0.01\n",
    "response_testset_camera_og = response_testset_camera\n",
    "response_testset_camera = add_noise(response_testset_camera, noise_poiss, noise_gauss)"
   ]
  },
  {
   "cell_type": "markdown",
   "metadata": {},
   "source": [
    "### Fit Generalized Additive Model with P-splines"
   ]
  },
  {
   "cell_type": "markdown",
   "metadata": {},
   "source": [
    "### Nikon"
   ]
  },
  {
   "cell_type": "code",
   "execution_count": 23,
   "metadata": {},
   "outputs": [],
   "source": [
    "from sklearn.metrics import make_scorer\n",
    "from colour_math import deltae_mean\n",
    "from models import GAMOptimizer\n",
    "from evaluate import pred\n",
    "np.int = np.int64\n",
    "if CAMERA == 'nikon':\n",
    "    gam = GAMOptimizer(lams=1e-6, order=3, n_splines=5)\n",
    "    \n",
    "    # gam = GAMOptimizer(lams=0.0001,order=3, n_splines=10)\n",
    "    # gam = GAMOptimizer(lams=0.01,order=3, n_splines=20)\n",
    "\n",
    "    gam.fit(response_trainset_camera, response_trainset_xyz)\n",
    "\n",
    "    pred(gam, response_testset_camera, response_testset_xyz, \"DeltaE Foster+CAVE\")"
   ]
  },
  {
   "cell_type": "markdown",
   "metadata": {},
   "source": [
    "### Sigma"
   ]
  },
  {
   "cell_type": "code",
   "execution_count": 24,
   "metadata": {},
   "outputs": [
    {
     "name": "stdout",
     "output_type": "stream",
     "text": [
      "3600\n",
      "---- RESULTS DeltaE Foster+CAVE ----\n",
      "DeltaE mean: 24.62\n",
      "DeltaE max: 83.23\n",
      "DeltaE median: 23.77\n",
      "DeltaE 95 percentile: 47.70\n",
      "DeltaE 99 percentile: 61.15\n"
     ]
    }
   ],
   "source": [
    "from sklearn.metrics import make_scorer\n",
    "from colour_math import deltae_mean\n",
    "from models import GAMOptimizer\n",
    "from evaluate import pred\n",
    "np.int = np.int64\n",
    "if CAMERA == 'sigma':\n",
    "    # gam = GAMOptimizer(lams=1e-9, order=3, n_splines=5)\n",
    "    # gam = GAMOptimizer(lams=0.0001,order=3, n_splines=10)\n",
    "    gam = GAMOptimizer(lams=0.0001,order=3, n_splines=20)\n",
    "\n",
    "    gam.fit(response_trainset_camera, response_trainset_xyz)\n",
    "\n",
    "    pred(gam, response_testset_camera, response_testset_xyz, \"DeltaE Foster+CAVE\")"
   ]
  },
  {
   "cell_type": "markdown",
   "metadata": {},
   "source": [
    "### Fit Linear Model"
   ]
  },
  {
   "cell_type": "code",
   "execution_count": 25,
   "metadata": {},
   "outputs": [
    {
     "name": "stdout",
     "output_type": "stream",
     "text": [
      "---- RESULTS Foster 50 ----\n",
      "DeltaE mean: 25.23\n",
      "DeltaE max: 92.83\n",
      "DeltaE median: 23.83\n",
      "DeltaE 95 percentile: 51.79\n",
      "DeltaE 99 percentile: 66.75\n"
     ]
    }
   ],
   "source": [
    "from sklearn.linear_model import LinearRegression\n",
    "\n",
    "linear = LinearRegression(fit_intercept=False)\n",
    "\n",
    "\n",
    "linear.fit(response_trainset_camera, response_trainset_xyz)\n",
    "pred(linear, response_testset_camera, response_testset_xyz, \"Foster 50\")\n"
   ]
  },
  {
   "cell_type": "code",
   "execution_count": 26,
   "metadata": {},
   "outputs": [
    {
     "name": "stdout",
     "output_type": "stream",
     "text": [
      "  message: Desired error not necessarily achieved due to precision loss.\n",
      "  success: False\n",
      "   status: 2\n",
      "      fun: 0.9335701713566483\n",
      "        x: [ 6.353e-01 -3.161e-02  3.444e-01 -9.674e-01  3.051e+00\n",
      "            -1.087e+00  1.002e+00 -4.659e+00  4.749e+00]\n",
      "      nit: 36\n",
      "      jac: [ 2.205e-06  5.141e-07 -4.545e-07 -1.466e-05 -1.223e-05\n",
      "            -1.052e-05  1.061e-05  9.581e-06  8.807e-06]\n",
      " hess_inv: [[ 1.112e+00 -2.620e+00 ..., -1.906e+00  1.129e+00]\n",
      "            [-2.620e+00  6.452e+00 ...,  4.844e+00 -2.972e+00]\n",
      "            ..., \n",
      "            [-1.906e+00  4.844e+00 ...,  8.027e+00 -5.041e+00]\n",
      "            [ 1.129e+00 -2.972e+00 ..., -5.041e+00  3.255e+00]]\n",
      "     nfev: 671\n",
      "     njev: 66\n",
      "---- RESULTS DeltaE Foster+CAVE ----\n",
      "DeltaE mean: 24.61\n",
      "DeltaE max: 91.25\n",
      "DeltaE median: 23.25\n",
      "DeltaE 95 percentile: 50.26\n",
      "DeltaE 99 percentile: 65.13\n"
     ]
    }
   ],
   "source": [
    "from sklearn.pipeline import Pipeline\n",
    "from models import DeltaEOptimizer\n",
    "\n",
    "DE2000RP = Pipeline([\n",
    "    ('regressor', DeltaEOptimizer(root_polynomial=False, degree=1))\n",
    "])\n",
    "\n",
    "\n",
    "DE2000RP.fit(response_trainset_camera, response_trainset_xyz)\n",
    "pred(DE2000RP, response_testset_camera, response_testset_xyz, \"DeltaE Foster+CAVE\")"
   ]
  },
  {
   "cell_type": "markdown",
   "metadata": {},
   "source": [
    "### Fit 3rd order Root-Polynomial Model"
   ]
  },
  {
   "cell_type": "code",
   "execution_count": 27,
   "metadata": {},
   "outputs": [
    {
     "name": "stdout",
     "output_type": "stream",
     "text": [
      "---- RESULTS DeltaE Foster+CAVE ----\n",
      "DeltaE mean: 34.19\n",
      "DeltaE max: 146.45\n",
      "DeltaE median: 24.35\n",
      "DeltaE 95 percentile: 115.31\n",
      "DeltaE 99 percentile: 129.86\n"
     ]
    }
   ],
   "source": [
    "from models import PolynomialTransformer\n",
    "from sklearn.pipeline import Pipeline\n",
    "from sklearn.linear_model import LinearRegression\n",
    "\n",
    "RP_linear_3 = Pipeline([\n",
    "    ('transformer', PolynomialTransformer(degree=3, rp=True)),\n",
    "    ('regressor', LinearRegression(fit_intercept=False))\n",
    "])\n",
    "\n",
    "RP_linear_3.fit(response_trainset_camera, response_trainset_xyz)\n",
    "\n",
    "pred(RP_linear_3, response_testset_camera, response_testset_xyz, \"DeltaE Foster+CAVE\")\n"
   ]
  },
  {
   "cell_type": "markdown",
   "metadata": {},
   "source": [
    "### Fit a 2nd order Root-Polynomial Model"
   ]
  },
  {
   "cell_type": "code",
   "execution_count": 28,
   "metadata": {},
   "outputs": [
    {
     "name": "stdout",
     "output_type": "stream",
     "text": [
      "---- RESULTS DeltaE Foster+CAVE ----\n",
      "DeltaE mean: 25.31\n",
      "DeltaE max: 105.88\n",
      "DeltaE median: 23.74\n",
      "DeltaE 95 percentile: 50.61\n",
      "DeltaE 99 percentile: 66.51\n"
     ]
    }
   ],
   "source": [
    "from models import GAMOptimizer, PolynomialTransformer, DeltaEOptimizer\n",
    "from sklearn.pipeline import Pipeline\n",
    "from sklearn.linear_model import LinearRegression\n",
    "\n",
    "RP_linear_2 = Pipeline([\n",
    "    ('transformer', PolynomialTransformer(degree=2, rp=True)),\n",
    "    ('regressor', LinearRegression(fit_intercept=False))\n",
    "])\n",
    "\n",
    "\n",
    "RP_linear_2.fit(response_trainset_camera, response_trainset_xyz)\n",
    "pred(RP_linear_2, response_testset_camera, response_testset_xyz, \"DeltaE Foster+CAVE\")\n"
   ]
  },
  {
   "cell_type": "code",
   "execution_count": 29,
   "metadata": {},
   "outputs": [
    {
     "name": "stdout",
     "output_type": "stream",
     "text": [
      "---- RESULTS DeltaE Foster+CAVE ----\n",
      "DeltaE mean: 24.87\n",
      "DeltaE max: 85.64\n",
      "DeltaE median: 23.93\n",
      "DeltaE 95 percentile: 48.08\n",
      "DeltaE 99 percentile: 62.26\n"
     ]
    }
   ],
   "source": [
    "P_Linear_3 = Pipeline([\n",
    "    ('transformer', PolynomialTransformer(degree=3, rp=False)),\n",
    "    ('regressor', LinearRegression(fit_intercept=False))\n",
    "])\n",
    "\n",
    "\n",
    "P_Linear_3.fit(response_trainset_camera, response_trainset_xyz)\n",
    "pred(P_Linear_3, response_testset_camera, response_testset_xyz, \"DeltaE Foster+CAVE\")"
   ]
  },
  {
   "cell_type": "code",
   "execution_count": 30,
   "metadata": {},
   "outputs": [
    {
     "name": "stdout",
     "output_type": "stream",
     "text": [
      "---- RESULTS DeltaE Foster+CAVE ----\n",
      "DeltaE mean: 24.91\n",
      "DeltaE max: 91.43\n",
      "DeltaE median: 23.57\n",
      "DeltaE 95 percentile: 50.51\n",
      "DeltaE 99 percentile: 65.48\n"
     ]
    }
   ],
   "source": [
    "P_linear = Pipeline([\n",
    "    ('transformer', PolynomialTransformer(degree=2, rp=False)),\n",
    "    ('regressor', LinearRegression(fit_intercept=False))\n",
    "])\n",
    "\n",
    "\n",
    "P_linear.fit(response_trainset_camera, response_trainset_xyz)\n",
    "pred(P_linear, response_testset_camera, response_testset_xyz, \"DeltaE Foster+CAVE\")\n"
   ]
  },
  {
   "cell_type": "code",
   "execution_count": 31,
   "metadata": {},
   "outputs": [
    {
     "name": "stdout",
     "output_type": "stream",
     "text": [
      "  message: Desired error not necessarily achieved due to precision loss.\n",
      "  success: False\n",
      "   status: 2\n",
      "      fun: 0.7374502884923716\n",
      "        x: [ 8.154e-01 -2.948e-01 ..., -4.671e-01 -1.659e+01]\n",
      "      nit: 404\n",
      "      jac: [ 2.249e-02  1.794e-02 ..., -4.389e-03 -3.579e-03]\n",
      " hess_inv: [[ 3.869e+00 -8.047e+00 ...,  2.658e+01 -9.805e+00]\n",
      "            [-8.047e+00  1.931e+01 ..., -2.203e+02  3.724e+01]\n",
      "            ..., \n",
      "            [ 2.658e+01 -2.203e+02 ...,  5.126e+04 -6.996e+03]\n",
      "            [-9.806e+00  3.724e+01 ..., -6.996e+03  2.877e+03]]\n",
      "     nfev: 27272\n",
      "     njev: 470\n",
      "---- RESULTS DeltaE Foster+CAVE ----\n",
      "DeltaE mean: 24.31\n",
      "DeltaE max: 127.62\n",
      "DeltaE median: 23.61\n",
      "DeltaE 95 percentile: 46.32\n",
      "DeltaE 99 percentile: 58.40\n"
     ]
    }
   ],
   "source": [
    "from sklearn.pipeline import Pipeline\n",
    "from models import DeltaEOptimizer\n",
    "\n",
    "DE2000P = Pipeline([\n",
    "    ('regressor', DeltaEOptimizer(root_polynomial=False, degree=3))\n",
    "])\n",
    "\n",
    "\n",
    "DE2000P.fit(response_trainset_camera, response_trainset_xyz)\n",
    "pred(DE2000P, response_testset_camera, response_testset_xyz, \"DeltaE Foster+CAVE\")"
   ]
  },
  {
   "cell_type": "code",
   "execution_count": 32,
   "metadata": {},
   "outputs": [
    {
     "name": "stdout",
     "output_type": "stream",
     "text": [
      "  message: Desired error not necessarily achieved due to precision loss.\n",
      "  success: False\n",
      "   status: 2\n",
      "      fun: 0.7326022046775705\n",
      "        x: [ 1.137e+01 -1.398e+01 ..., -6.191e+00 -6.332e+01]\n",
      "      nit: 200\n",
      "      jac: [-4.732e-04 -3.758e-04 ..., -7.773e-04 -8.248e-04]\n",
      " hess_inv: [[ 1.927e+03  3.755e+03 ...,  4.703e+03  4.621e+03]\n",
      "            [ 3.755e+03  8.841e+03 ...,  9.641e+03  1.094e+04]\n",
      "            ..., \n",
      "            [ 4.703e+03  9.641e+03 ...,  2.025e+04  1.101e+04]\n",
      "            [ 4.621e+03  1.094e+04 ...,  1.101e+04  1.443e+04]]\n",
      "     nfev: 10092\n",
      "     njev: 252\n",
      "---- RESULTS DeltaE Foster+CAVE ----\n",
      "DeltaE mean: 26.19\n",
      "DeltaE max: 133.73\n",
      "DeltaE median: 23.40\n",
      "DeltaE 95 percentile: 58.13\n",
      "DeltaE 99 percentile: 84.09\n"
     ]
    }
   ],
   "source": [
    "from sklearn.pipeline import Pipeline\n",
    "from models import DeltaEOptimizer\n",
    "\n",
    "DE2000RP = Pipeline([\n",
    "    ('regressor', DeltaEOptimizer(root_polynomial=True, degree=3))\n",
    "])\n",
    "\n",
    "\n",
    "DE2000RP.fit(response_trainset_camera, response_trainset_xyz)\n",
    "pred(DE2000RP, response_testset_camera, response_testset_xyz, \"DeltaE Foster+CAVE\")"
   ]
  }
 ],
 "metadata": {
  "interpreter": {
   "hash": "cf57dc982f5f7f7659d5105c425ec4d8a9bd6722199c7740e28d03845b9098c4"
  },
  "kernelspec": {
   "display_name": "Python 3.10.0 ('dippa')",
   "language": "python",
   "name": "python3"
  },
  "language_info": {
   "codemirror_mode": {
    "name": "ipython",
    "version": 3
   },
   "file_extension": ".py",
   "mimetype": "text/x-python",
   "name": "python",
   "nbconvert_exporter": "python",
   "pygments_lexer": "ipython3",
   "version": "3.10.4"
  },
  "orig_nbformat": 4
 },
 "nbformat": 4,
 "nbformat_minor": 2
}
