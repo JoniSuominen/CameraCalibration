{
 "cells": [
  {
   "cell_type": "markdown",
   "metadata": {},
   "source": [
    "# Colour Correction using Splines"
   ]
  },
  {
   "cell_type": "markdown",
   "metadata": {},
   "source": [
    "### Define constants"
   ]
  },
  {
   "cell_type": "code",
   "execution_count": 1,
   "metadata": {},
   "outputs": [],
   "source": [
    "%load_ext autoreload\n",
    "%autoreload 2\n",
    "import colour\n",
    "from data import load_dataset_sfu, load_dataset_csv, load_cmfs, load_camera, load_insitu, msds_to_rgb, msds_to_xyz, load_dataset_skin\n",
    "import numpy as np\n",
    "\n",
    "RANDOM_STATE = 0\n",
    "np.random.seed(RANDOM_STATE)\n",
    "    \n",
    "SFU_FILE_PATH = 'data/reflect_db.reflect'\n",
    "CAVE_FOSTER2004_PATH = 'data/cave_foster2002.csv'\n",
    "INSITU_PATH = \"data/insitu_dataset.csv\"\n",
    "CAVE_PATH = 'data/cave.csv'\n",
    "FOSTER_50_PATH = 'data/foster50.csv'\n",
    "CAMERA = 'sigma'"
   ]
  },
  {
   "cell_type": "code",
   "execution_count": 2,
   "metadata": {},
   "outputs": [],
   "source": [
    "\n",
    "# sfu_dataset = load_dataset_sfu(SFU_FILE_PATH)\n",
    "cave_foster2004_dataset = load_dataset_csv(CAVE_FOSTER2004_PATH)\n",
    "foster_50_dataset = load_dataset_csv(FOSTER_50_PATH)\n",
    "insitu = load_insitu(INSITU_PATH)\n",
    "# cave = load_dataset_csv(CAVE_PATH)\n",
    "# skin = load_dataset_skin()\n"
   ]
  },
  {
   "cell_type": "code",
   "execution_count": 3,
   "metadata": {},
   "outputs": [],
   "source": [
    "from plotting import plot_chromaticity_diagram\n",
    "TRAIN = insitu\n",
    "TEST = foster_50_dataset\n",
    "VALIDATION = insitu"
   ]
  },
  {
   "cell_type": "markdown",
   "metadata": {},
   "source": [
    "### Computing Observer Responses\n",
    "We can easily change the order of test and train sets here"
   ]
  },
  {
   "cell_type": "code",
   "execution_count": 4,
   "metadata": {},
   "outputs": [
    {
     "name": "stdout",
     "output_type": "stream",
     "text": [
      "[ 0.94940092  1.          1.08709122]\n",
      "[ 0.94940092  1.          1.08709122]\n",
      "[ 0.94940092  1.          1.08709122]\n"
     ]
    }
   ],
   "source": [
    "from plotting import plot_chromaticity_diagram\n",
    "\n",
    "cmfs, illuminant = load_cmfs()\n",
    "response_trainset_xyz = msds_to_xyz(TRAIN, cmfs, illuminant)\n",
    "response_testset_xyz = msds_to_xyz(TEST, cmfs, illuminant)\n",
    "response_validation_xyz = msds_to_xyz(VALIDATION, cmfs, illuminant)"
   ]
  },
  {
   "cell_type": "markdown",
   "metadata": {},
   "source": [
    "### Computing Camera Responses"
   ]
  },
  {
   "cell_type": "code",
   "execution_count": 5,
   "metadata": {},
   "outputs": [
    {
     "name": "stdout",
     "output_type": "stream",
     "text": [
      "[  613.25528366  1055.57702291   900.69359634]\n",
      "[  613.25528366  1055.57702291   900.69359634]\n",
      "[  613.25528366  1055.57702291   900.69359634]\n"
     ]
    }
   ],
   "source": [
    "from utilities import add_noise\n",
    "MSDS_TRAIN = load_camera(CAMERA)\n",
    "response_trainset_camera = msds_to_rgb(TRAIN,MSDS_TRAIN, illuminant)\n",
    "response_testset_camera = msds_to_rgb(TEST,MSDS_TRAIN, illuminant)\n",
    "response_validationset_camera = msds_to_rgb(VALIDATION,MSDS_TRAIN, illuminant)\n",
    "noise_gauss = 0.01\n",
    "noise_poiss = 0.01\n",
    "response_testset_camera_og = response_testset_camera\n",
    "response_testset_camera = add_noise(response_testset_camera, noise_poiss, noise_gauss)"
   ]
  },
  {
   "cell_type": "markdown",
   "metadata": {},
   "source": [
    "### Fit Generalized Additive Model with P-splines"
   ]
  },
  {
   "cell_type": "markdown",
   "metadata": {},
   "source": [
    "### Nikon"
   ]
  },
  {
   "cell_type": "code",
   "execution_count": 17,
   "metadata": {},
   "outputs": [
    {
     "name": "stdout",
     "output_type": "stream",
     "text": [
      "225\n",
      "---- RESULTS DeltaE Foster+CAVE ----\n",
      "DeltaE mean: 9.99\n",
      "DeltaE max: 58.98\n",
      "DeltaE median: 7.89\n",
      "DeltaE 95 percentile: 24.86\n",
      "DeltaE 99 percentile: 33.74\n"
     ]
    }
   ],
   "source": [
    "from sklearn.metrics import make_scorer\n",
    "from colour_math import deltae_mean\n",
    "from models import GAMOptimizer\n",
    "from evaluate import pred\n",
    "np.int = np.int64\n",
    "if CAMERA == 'nikon':\n",
    "    gam = GAMOptimizer(lams=1e-6, order=3, n_splines=5)\n",
    "    \n",
    "    # gam = GAMOptimizer(lams=0.0001,order=3, n_splines=10)\n",
    "    # gam = GAMOptimizer(lams=0.01,order=3, n_splines=20)\n",
    "\n",
    "    gam.fit(response_trainset_camera, response_trainset_xyz)\n",
    "\n",
    "    pred(gam, response_testset_camera, response_testset_xyz, \"DeltaE Foster+CAVE\")"
   ]
  },
  {
   "cell_type": "markdown",
   "metadata": {},
   "source": [
    "### Sigma"
   ]
  },
  {
   "cell_type": "code",
   "execution_count": 7,
   "metadata": {},
   "outputs": [],
   "source": [
    "from sklearn.metrics import make_scorer\n",
    "from colour_math import deltae_mean\n",
    "from models import GAMOptimizer\n",
    "from evaluate import pred\n",
    "np.int = np.int64\n",
    "if CAMERA == 'sigma':\n",
    "    # gam = GAMOptimizer(lams=1e-9, order=3, n_splines=5)\n",
    "    # gam = GAMOptimizer(lams=0.0001,order=3, n_splines=10)\n",
    "    gam = GAMOptimizer(lams=0.0001,order=3, n_splines=20)\n",
    "\n",
    "    gam.fit(response_trainset_camera, response_trainset_xyz)\n",
    "\n",
    "    pred(gam, response_testset_camera, response_testset_xyz, \"DeltaE Foster+CAVE\")"
   ]
  },
  {
   "cell_type": "markdown",
   "metadata": {},
   "source": [
    "### Fit Linear Model"
   ]
  },
  {
   "cell_type": "code",
   "execution_count": 8,
   "metadata": {},
   "outputs": [
    {
     "name": "stdout",
     "output_type": "stream",
     "text": [
      "---- RESULTS Foster 50 ----\n",
      "DeltaE mean: 10.13\n",
      "DeltaE max: 58.81\n",
      "DeltaE median: 8.09\n",
      "DeltaE 95 percentile: 24.91\n",
      "DeltaE 99 percentile: 33.73\n"
     ]
    }
   ],
   "source": [
    "from sklearn.linear_model import LinearRegression\n",
    "\n",
    "linear = LinearRegression(fit_intercept=False)\n",
    "\n",
    "\n",
    "linear.fit(response_trainset_camera, response_trainset_xyz)\n",
    "pred(linear, response_testset_camera, response_testset_xyz, \"Foster 50\")\n"
   ]
  },
  {
   "cell_type": "code",
   "execution_count": 9,
   "metadata": {},
   "outputs": [
    {
     "name": "stdout",
     "output_type": "stream",
     "text": [
      "  message: Desired error not necessarily achieved due to precision loss.\n",
      "  success: False\n",
      "   status: 2\n",
      "      fun: 0.5389760833857261\n",
      "        x: [ 5.835e-01  3.773e-01 -1.442e-02  2.081e-01  1.102e+00\n",
      "            -3.130e-01 -2.715e-02 -1.693e-01  1.275e+00]\n",
      "      nit: 32\n",
      "      jac: [ 7.461e-05  4.202e-05  2.200e-05 -5.288e-05 -2.566e-05\n",
      "            -8.665e-06 -4.493e-06 -3.040e-06 -3.226e-06]\n",
      " hess_inv: [[ 2.464e-02 -5.539e-02 ..., -5.375e-02  2.959e-02]\n",
      "            [-5.539e-02  1.714e-01 ...,  1.692e-01 -1.199e-01]\n",
      "            ..., \n",
      "            [-5.375e-02  1.692e-01 ...,  2.639e-01 -1.929e-01]\n",
      "            [ 2.959e-02 -1.199e-01 ..., -1.929e-01  1.670e-01]]\n",
      "     nfev: 722\n",
      "     njev: 71\n",
      "---- RESULTS DeltaE Foster+CAVE ----\n",
      "DeltaE mean: 9.93\n",
      "DeltaE max: 58.83\n",
      "DeltaE median: 7.86\n",
      "DeltaE 95 percentile: 24.68\n",
      "DeltaE 99 percentile: 33.62\n"
     ]
    }
   ],
   "source": [
    "from sklearn.pipeline import Pipeline\n",
    "from models import DeltaEOptimizer\n",
    "\n",
    "DE2000RP = Pipeline([\n",
    "    ('regressor', DeltaEOptimizer(root_polynomial=False, degree=1))\n",
    "])\n",
    "\n",
    "\n",
    "DE2000RP.fit(response_trainset_camera, response_trainset_xyz)\n",
    "pred(DE2000RP, response_testset_camera, response_testset_xyz, \"DeltaE Foster+CAVE\")"
   ]
  },
  {
   "cell_type": "markdown",
   "metadata": {},
   "source": [
    "### Fit 3rd order Root-Polynomial Model"
   ]
  },
  {
   "cell_type": "code",
   "execution_count": 10,
   "metadata": {},
   "outputs": [
    {
     "name": "stdout",
     "output_type": "stream",
     "text": [
      "---- RESULTS DeltaE Foster+CAVE ----\n",
      "DeltaE mean: 12.64\n",
      "DeltaE max: 122.49\n",
      "DeltaE median: 8.41\n",
      "DeltaE 95 percentile: 38.91\n",
      "DeltaE 99 percentile: 63.69\n"
     ]
    }
   ],
   "source": [
    "from models import PolynomialTransformer\n",
    "from sklearn.pipeline import Pipeline\n",
    "from sklearn.linear_model import LinearRegression\n",
    "\n",
    "RP_linear_3 = Pipeline([\n",
    "    ('transformer', PolynomialTransformer(degree=3, rp=True)),\n",
    "    ('regressor', LinearRegression(fit_intercept=False))\n",
    "])\n",
    "\n",
    "RP_linear_3.fit(response_trainset_camera, response_trainset_xyz)\n",
    "\n",
    "pred(RP_linear_3, response_testset_camera, response_testset_xyz, \"DeltaE Foster+CAVE\")\n"
   ]
  },
  {
   "cell_type": "markdown",
   "metadata": {},
   "source": [
    "### Fit a 2nd order Root-Polynomial Model"
   ]
  },
  {
   "cell_type": "code",
   "execution_count": 11,
   "metadata": {},
   "outputs": [
    {
     "name": "stdout",
     "output_type": "stream",
     "text": [
      "---- RESULTS DeltaE Foster+CAVE ----\n",
      "DeltaE mean: 10.04\n",
      "DeltaE max: 61.44\n",
      "DeltaE median: 7.93\n",
      "DeltaE 95 percentile: 24.97\n",
      "DeltaE 99 percentile: 34.17\n"
     ]
    }
   ],
   "source": [
    "from models import GAMOptimizer, PolynomialTransformer, DeltaEOptimizer\n",
    "from sklearn.pipeline import Pipeline\n",
    "from sklearn.linear_model import LinearRegression\n",
    "\n",
    "RP_linear_2 = Pipeline([\n",
    "    ('transformer', PolynomialTransformer(degree=2, rp=True)),\n",
    "    ('regressor', LinearRegression(fit_intercept=False))\n",
    "])\n",
    "\n",
    "\n",
    "RP_linear_2.fit(response_trainset_camera, response_trainset_xyz)\n",
    "pred(RP_linear_2, response_testset_camera, response_testset_xyz, \"DeltaE Foster+CAVE\")\n"
   ]
  },
  {
   "cell_type": "code",
   "execution_count": 12,
   "metadata": {},
   "outputs": [
    {
     "name": "stdout",
     "output_type": "stream",
     "text": [
      "---- RESULTS DeltaE Foster+CAVE ----\n",
      "DeltaE mean: 10.08\n",
      "DeltaE max: 59.04\n",
      "DeltaE median: 7.99\n",
      "DeltaE 95 percentile: 25.01\n",
      "DeltaE 99 percentile: 33.85\n"
     ]
    }
   ],
   "source": [
    "P_Linear_3 = Pipeline([\n",
    "    ('transformer', PolynomialTransformer(degree=3, rp=False)),\n",
    "    ('regressor', LinearRegression(fit_intercept=False))\n",
    "])\n",
    "\n",
    "\n",
    "P_Linear_3.fit(response_trainset_camera, response_trainset_xyz)\n",
    "pred(P_Linear_3, response_testset_camera, response_testset_xyz, \"DeltaE Foster+CAVE\")"
   ]
  },
  {
   "cell_type": "code",
   "execution_count": 13,
   "metadata": {},
   "outputs": [
    {
     "name": "stdout",
     "output_type": "stream",
     "text": [
      "---- RESULTS DeltaE Foster+CAVE ----\n",
      "DeltaE mean: 10.08\n",
      "DeltaE max: 58.82\n",
      "DeltaE median: 8.03\n",
      "DeltaE 95 percentile: 24.86\n",
      "DeltaE 99 percentile: 33.75\n"
     ]
    }
   ],
   "source": [
    "P_linear = Pipeline([\n",
    "    ('transformer', PolynomialTransformer(degree=2, rp=False)),\n",
    "    ('regressor', LinearRegression(fit_intercept=False))\n",
    "])\n",
    "\n",
    "\n",
    "P_linear.fit(response_trainset_camera, response_trainset_xyz)\n",
    "pred(P_linear, response_testset_camera, response_testset_xyz, \"DeltaE Foster+CAVE\")\n"
   ]
  },
  {
   "cell_type": "code",
   "execution_count": 14,
   "metadata": {},
   "outputs": [
    {
     "name": "stdout",
     "output_type": "stream",
     "text": [
      "  message: Desired error not necessarily achieved due to precision loss.\n",
      "  success: False\n",
      "   status: 2\n",
      "      fun: 0.36060132705\n",
      "        x: [ 6.045e-01  3.568e-01 ...,  1.271e+00 -1.062e+01]\n",
      "      nit: 385\n",
      "      jac: [ 3.422e-05  4.604e-05 ...,  1.144e-06  2.939e-06]\n",
      " hess_inv: [[ 1.728e-01 -2.746e-01 ...,  2.888e+00 -1.788e+00]\n",
      "            [-2.746e-01  6.139e-01 ..., -5.606e+00  1.851e+00]\n",
      "            ..., \n",
      "            [ 2.888e+00 -5.606e+00 ...,  7.373e+02 -9.079e+02]\n",
      "            [-1.788e+00  1.851e+00 ..., -9.079e+02  1.768e+03]]\n",
      "     nfev: 27742\n",
      "     njev: 478\n",
      "---- RESULTS DeltaE Foster+CAVE ----\n",
      "DeltaE mean: 9.87\n",
      "DeltaE max: 58.96\n",
      "DeltaE median: 7.75\n",
      "DeltaE 95 percentile: 24.70\n",
      "DeltaE 99 percentile: 33.70\n"
     ]
    }
   ],
   "source": [
    "from sklearn.pipeline import Pipeline\n",
    "from models import DeltaEOptimizer\n",
    "\n",
    "DE2000P = Pipeline([\n",
    "    ('regressor', DeltaEOptimizer(root_polynomial=False, degree=3))\n",
    "])\n",
    "\n",
    "\n",
    "DE2000P.fit(response_trainset_camera, response_trainset_xyz)\n",
    "pred(DE2000P, response_testset_camera, response_testset_xyz, \"DeltaE Foster+CAVE\")"
   ]
  },
  {
   "cell_type": "code",
   "execution_count": 15,
   "metadata": {},
   "outputs": [
    {
     "name": "stdout",
     "output_type": "stream",
     "text": [
      "  message: Desired error not necessarily achieved due to precision loss.\n",
      "  success: False\n",
      "   status: 2\n",
      "      fun: 0.34145898827804777\n",
      "        x: [-2.184e+00 -1.641e+01 ...,  6.213e+00 -1.173e+01]\n",
      "      nit: 615\n",
      "      jac: [ 1.616e-02  8.093e-03 ..., -8.963e-04 -7.421e-04]\n",
      " hess_inv: [[ 2.198e+01 -2.163e+01 ..., -1.663e+01  1.351e+01]\n",
      "            [-2.163e+01  2.562e+02 ..., -3.322e+02  3.443e+02]\n",
      "            ..., \n",
      "            [-1.662e+01 -3.322e+02 ...,  1.108e+03 -6.940e+02]\n",
      "            [ 1.351e+01  3.443e+02 ..., -6.940e+02  2.836e+03]]\n",
      "     nfev: 29571\n",
      "     njev: 739\n",
      "---- RESULTS DeltaE Foster+CAVE ----\n",
      "DeltaE mean: 11.72\n",
      "DeltaE max: 98.92\n",
      "DeltaE median: 8.10\n",
      "DeltaE 95 percentile: 34.29\n",
      "DeltaE 99 percentile: 55.75\n"
     ]
    }
   ],
   "source": [
    "from sklearn.pipeline import Pipeline\n",
    "from models import DeltaEOptimizer\n",
    "\n",
    "DE2000RP = Pipeline([\n",
    "    ('regressor', DeltaEOptimizer(root_polynomial=True, degree=3))\n",
    "])\n",
    "\n",
    "\n",
    "DE2000RP.fit(response_trainset_camera, response_trainset_xyz)\n",
    "pred(DE2000RP, response_testset_camera, response_testset_xyz, \"DeltaE Foster+CAVE\")"
   ]
  }
 ],
 "metadata": {
  "interpreter": {
   "hash": "cf57dc982f5f7f7659d5105c425ec4d8a9bd6722199c7740e28d03845b9098c4"
  },
  "kernelspec": {
   "display_name": "Python 3.10.0 ('dippa')",
   "language": "python",
   "name": "python3"
  },
  "language_info": {
   "codemirror_mode": {
    "name": "ipython",
    "version": 3
   },
   "file_extension": ".py",
   "mimetype": "text/x-python",
   "name": "python",
   "nbconvert_exporter": "python",
   "pygments_lexer": "ipython3",
   "version": "3.10.4"
  },
  "orig_nbformat": 4
 },
 "nbformat": 4,
 "nbformat_minor": 2
}
