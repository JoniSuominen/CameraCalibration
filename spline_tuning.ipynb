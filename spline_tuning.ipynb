{
 "cells": [
  {
   "cell_type": "markdown",
   "metadata": {},
   "source": [
    "# Colour Correction using Splines"
   ]
  },
  {
   "cell_type": "markdown",
   "metadata": {},
   "source": [
    "### Define constants"
   ]
  },
  {
   "cell_type": "code",
   "execution_count": 8,
   "metadata": {},
   "outputs": [
    {
     "name": "stdout",
     "output_type": "stream",
     "text": [
      "The autoreload extension is already loaded. To reload it, use:\n",
      "  %reload_ext autoreload\n"
     ]
    },
    {
     "ename": "ImportError",
     "evalue": "cannot import name 'load_illuminant_cmfs' from 'data' (c:\\Users\\jonis\\Koulu\\Dippa\\CameraCalibration-main\\data.py)",
     "output_type": "error",
     "traceback": [
      "\u001b[1;31m---------------------------------------------------------------------------\u001b[0m",
      "\u001b[1;31mImportError\u001b[0m                               Traceback (most recent call last)",
      "Cell \u001b[1;32mIn[8], line 4\u001b[0m\n\u001b[0;32m      2\u001b[0m get_ipython()\u001b[38;5;241m.\u001b[39mrun_line_magic(\u001b[38;5;124m'\u001b[39m\u001b[38;5;124mautoreload\u001b[39m\u001b[38;5;124m'\u001b[39m, \u001b[38;5;124m'\u001b[39m\u001b[38;5;124m2\u001b[39m\u001b[38;5;124m'\u001b[39m)\n\u001b[0;32m      3\u001b[0m \u001b[38;5;28;01mimport\u001b[39;00m \u001b[38;5;21;01mcolour\u001b[39;00m\n\u001b[1;32m----> 4\u001b[0m \u001b[38;5;28;01mfrom\u001b[39;00m \u001b[38;5;21;01mdata\u001b[39;00m \u001b[38;5;28;01mimport\u001b[39;00m load_dataset_sfu, load_dataset_csv, load_illuminant_cmfs, load_camera, load_insitu\n\u001b[0;32m      5\u001b[0m \u001b[38;5;28;01mimport\u001b[39;00m \u001b[38;5;21;01mnumpy\u001b[39;00m \u001b[38;5;28;01mas\u001b[39;00m \u001b[38;5;21;01mnp\u001b[39;00m\n\u001b[0;32m      7\u001b[0m RANDOM_STATE \u001b[38;5;241m=\u001b[39m \u001b[38;5;241m0\u001b[39m\n",
      "\u001b[1;31mImportError\u001b[0m: cannot import name 'load_illuminant_cmfs' from 'data' (c:\\Users\\jonis\\Koulu\\Dippa\\CameraCalibration-main\\data.py)"
     ]
    }
   ],
   "source": [
    "%load_ext autoreload\n",
    "%autoreload 2\n",
    "import colour\n",
    "from data import load_dataset_sfu, load_dataset_csv, load_illuminant_cmfs, load_camera, load_insitu\n",
    "import numpy as np\n",
    "\n",
    "RANDOM_STATE = 0\n",
    "np.random.seed(RANDOM_STATE)\n",
    "\n",
    "SFU_FILE_PATH = 'reflect_db.reflect'\n",
    "CAVE_FOSTER2004_PATH = 'cave.csv'\n",
    "FOSTER_50_PATH = 'foster50.csv'\n",
    "INSITU_PATH = \"insitu_dataset.csv\"\n"
   ]
  },
  {
   "cell_type": "code",
   "execution_count": null,
   "metadata": {},
   "outputs": [],
   "source": [
    "sfu_dataset = load_dataset_sfu(SFU_FILE_PATH)\n",
    "cave_foster2004_dataset = load_dataset_csv(CAVE_FOSTER2004_PATH)\n",
    "foster_50_dataset = load_dataset_csv(FOSTER_50_PATH)\n",
    "insitu = load_insitu(INSITU_PATH)\n",
    "\n",
    "TRAIN = cave_foster2004_dataset\n",
    "TEST = foster_50_dataset\n",
    "VALIDATION = sfu_dataset\n",
    "CAMERA = 'nikon'"
   ]
  },
  {
   "cell_type": "markdown",
   "metadata": {},
   "source": []
  },
  {
   "cell_type": "markdown",
   "metadata": {},
   "source": [
    "### Spectral sensitivities of various cameras"
   ]
  },
  {
   "cell_type": "code",
   "execution_count": null,
   "metadata": {},
   "outputs": [],
   "source": [
    "\n",
    "MSDS_TRAIN, SDS_TRAIN = load_camera(CAMERA)\n"
   ]
  },
  {
   "cell_type": "markdown",
   "metadata": {},
   "source": [
    "### Computing Observer Responses\n",
    "We can easily change the order of test and train sets here"
   ]
  },
  {
   "cell_type": "code",
   "execution_count": null,
   "metadata": {},
   "outputs": [],
   "source": [
    "illuminant, cmfs = load_illuminant_cmfs()\n",
    "colour.plotting.plot_multi_cmfs([MSDS_TRAIN, cmfs])\n",
    "response_trainset_xyz = colour.characterisation.training_data_sds_to_XYZ(TRAIN, cmfs, illuminant)\n",
    "response_testset_xyz = colour.characterisation.training_data_sds_to_XYZ(TEST, cmfs, illuminant)\n",
    "response_validation_xyz = colour.characterisation.training_data_sds_to_XYZ(VALIDATION, cmfs, illuminant)"
   ]
  },
  {
   "cell_type": "markdown",
   "metadata": {},
   "source": [
    "### Computing Camera Responses"
   ]
  },
  {
   "cell_type": "code",
   "execution_count": null,
   "metadata": {},
   "outputs": [],
   "source": [
    "response_trainset_camera, _ = colour.characterisation.training_data_sds_to_RGB(TRAIN, MSDS_TRAIN, SDS_TRAIN)\n",
    "response_testset_camera, _ = colour.characterisation.training_data_sds_to_RGB(TEST, MSDS_TRAIN, SDS_TRAIN)\n",
    "response_validationset_camera,  _ = colour.characterisation.training_data_sds_to_RGB(VALIDATION, MSDS_TRAIN, SDS_TRAIN)"
   ]
  },
  {
   "cell_type": "code",
   "execution_count": null,
   "metadata": {},
   "outputs": [],
   "source": [
    "response_trainset_camera_augmented = np.vstack((response_trainset_camera, response_trainset_camera / 2))\n",
    "response_trainset_xyz_augmented = np.vstack((response_trainset_xyz, response_trainset_xyz / 2))\n"
   ]
  },
  {
   "cell_type": "markdown",
   "metadata": {},
   "source": [
    "### Fit Generalized Additive Model with P-splines"
   ]
  },
  {
   "cell_type": "code",
   "execution_count": null,
   "metadata": {},
   "outputs": [],
   "source": [
    "from sklearn.metrics import make_scorer\n",
    "from colour_math import deltae_mean\n",
    "from models import GAMOptimizer\n",
    "from evaluate import pred\n",
    "from skopt import BayesSearchCV\n",
    "\n",
    "np.int = np.int64\n",
    "custom_scorer = make_scorer(deltae_mean, greater_is_better=False)\n",
    "\n",
    "param_grid_gam = {\n",
    "    'lams': [1*10**(-i) for i in range(2, 10)],\n",
    "}\n",
    "print(param_grid_gam)\n",
    "gam = GAMOptimizer(lams=0.0001,order=3, n_splines=5)\n",
    "\n",
    "bayes_search = BayesSearchCV(\n",
    "    gam,\n",
    "    param_grid_gam,\n",
    "    n_iter=50,  # Number of iterations for the Bayesian optimization\n",
    "    cv=5,\n",
    "    n_jobs=-1,\n",
    "    scoring=custom_scorer,\n",
    "    verbose=2,\n",
    "    random_state=RANDOM_STATE,  # Set a random seed for reproducibility\n",
    ")\n",
    "bayes_search.fit(response_trainset_camera, response_trainset_xyz)\n",
    "\n",
    "print(\"Best parameters:\", bayes_search.best_params_)\n",
    "\n",
    "\n",
    "\n",
    "pred(bayes_search, response_testset_camera, response_testset_xyz, \"DeltaE Foster+CAVE\")"
   ]
  }
 ],
 "metadata": {
  "interpreter": {
   "hash": "cf57dc982f5f7f7659d5105c425ec4d8a9bd6722199c7740e28d03845b9098c4"
  },
  "kernelspec": {
   "display_name": "Python 3.10.0 ('dippa')",
   "language": "python",
   "name": "python3"
  },
  "language_info": {
   "codemirror_mode": {
    "name": "ipython",
    "version": 3
   },
   "file_extension": ".py",
   "mimetype": "text/x-python",
   "name": "python",
   "nbconvert_exporter": "python",
   "pygments_lexer": "ipython3",
   "version": "3.10.0"
  },
  "orig_nbformat": 4
 },
 "nbformat": 4,
 "nbformat_minor": 2
}
