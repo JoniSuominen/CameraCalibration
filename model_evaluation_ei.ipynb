{
 "cells": [
  {
   "cell_type": "markdown",
   "metadata": {},
   "source": [
    "# Colour Correction using Splines\n",
    "## Exposure Invariance"
   ]
  },
  {
   "cell_type": "markdown",
   "metadata": {},
   "source": [
    "### Define constants"
   ]
  },
  {
   "cell_type": "code",
   "execution_count": null,
   "metadata": {},
   "outputs": [],
   "source": [
    "# Enable automatic reloading of modules before executing code to ensure latest changes are used.\n",
    "%load_ext autoreload\n",
    "%autoreload 2\n",
    "\n",
    "# Importing necessary libraries and functions.\n",
    "# 'colour' is used for color science computations.\n",
    "# 'data' contains functions to load various datasets and color matching functions.\n",
    "import colour\n",
    "from data import (load_dataset_sfu, load_dataset_csv, load_cmfs, \n",
    "                  load_camera, load_insitu, msds_to_rgb, msds_to_xyz, load_dataset_skin)\n",
    "import numpy as np\n",
    "\n",
    "# Setting a seed for random number generation to ensure reproducibility.\n",
    "RANDOM_STATE = 0\n",
    "np.random.seed(RANDOM_STATE)\n",
    "\n",
    "# Defining file paths for the datasets. These files should contain the data needed for analysis.\n",
    "SFU_FILE_PATH = 'data/reflect_db.reflect'  # SFU material reflectance database\n",
    "CAVE_FOSTER2004_PATH = 'data/cave_foster2002.csv'  # CAVE dataset for color constancy\n",
    "INSITU_PATH = \"data/insitu_dataset.csv\"  # In-situ measurements dataset\n",
    "CAVE_PATH = 'data/cave.csv'  # Another CAVE dataset file\n",
    "FOSTER_50_PATH = 'data/foster50.csv'  # Foster dataset with 50 images for color analysis\n",
    "CAMERA = 'nikon'  # Specifying the camera model used in the datasets or for simulation\n"
   ]
  },
  {
   "cell_type": "code",
   "execution_count": null,
   "metadata": {},
   "outputs": [],
   "source": [
    "cave_foster2004_dataset = load_dataset_csv(CAVE_FOSTER2004_PATH)\n",
    "foster_50_dataset = load_dataset_csv(FOSTER_50_PATH)\n",
    "insitu = load_insitu(INSITU_PATH)\n",
    "\n",
    "sfu = load_dataset_sfu(SFU_FILE_PATH)\n"
   ]
  },
  {
   "cell_type": "code",
   "execution_count": null,
   "metadata": {},
   "outputs": [],
   "source": [
    "TRAIN = insitu\n",
    "TEST = sfu\n"
   ]
  },
  {
   "cell_type": "markdown",
   "metadata": {},
   "source": [
    "### Computing Observer Responses\n",
    "We can easily change the order of test and train sets here"
   ]
  },
  {
   "cell_type": "code",
   "execution_count": null,
   "metadata": {},
   "outputs": [],
   "source": [
    "from plotting import plot_chromaticity_diagram\n",
    "from colour.characterisation import training_data_sds_to_XYZ\n",
    "from colour import XYZ_to_Lab\n",
    "cmfs, illuminant = load_cmfs()\n",
    "response_trainset_xyz = msds_to_xyz(TRAIN, cmfs, illuminant)\n",
    "response_testset_xyz = msds_to_xyz(TEST, cmfs, illuminant) / 5\n",
    "\n",
    "lab = XYZ_to_Lab(response_trainset_xyz)"
   ]
  },
  {
   "cell_type": "markdown",
   "metadata": {},
   "source": [
    "### Computing Camera Responses"
   ]
  },
  {
   "cell_type": "code",
   "execution_count": null,
   "metadata": {},
   "outputs": [],
   "source": [
    "import numpy as np\n",
    "MSDS_TRAIN = load_camera(CAMERA)\n",
    "\n",
    "response_trainset_camera = msds_to_rgb(TRAIN,MSDS_TRAIN, illuminant)\n",
    "response_testset_camera = msds_to_rgb(TEST,MSDS_TRAIN, illuminant) / 5"
   ]
  },
  {
   "cell_type": "code",
   "execution_count": 137,
   "metadata": {},
   "outputs": [
    {
     "name": "stdout",
     "output_type": "stream",
     "text": [
      "[ 0.  0.  0. ...,  0.  0.  0.]\n"
     ]
    }
   ],
   "source": [
    "# Scale \n",
    "from colour import delta_E\n",
    "k = 4\n",
    "response_testset_camera_scaled = response_testset_camera * k\n",
    "response_testset_xyz_scaled = response_testset_xyz  * k\n",
    "\n",
    "\n",
    "lab1 = XYZ_to_Lab(response_testset_xyz)\n",
    "lab2 = XYZ_to_Lab(response_testset_xyz)\n",
    "\n",
    "print(delta_E(lab1, lab2))"
   ]
  },
  {
   "cell_type": "markdown",
   "metadata": {},
   "source": [
    "### Fit Generalized Additive Model with P-splines"
   ]
  },
  {
   "cell_type": "markdown",
   "metadata": {},
   "source": [
    "### Nikon"
   ]
  },
  {
   "cell_type": "code",
   "execution_count": null,
   "metadata": {},
   "outputs": [],
   "source": [
    "from models import GAMOptimizer\n",
    "from evaluate import pred, pred_ei\n",
    "def test_gam_optimizer(splines_lams_dict, order_value=3):\n",
    "    \"\"\"\n",
    "    Test GAMOptimizer models with different numbers of splines and corresponding lambda values.\n",
    "\n",
    "    Parameters:\n",
    "    - splines_lams_dict: Dictionary where keys are spline numbers and values are the corresponding lambda values for regularization.\n",
    "    - order_value: The order of the spline. Default is 3.\n",
    "    \"\"\"\n",
    "    for n_splines, lams_value in splines_lams_dict.items():\n",
    "        print(f\"Testing GAMOptimizer with {n_splines} splines and lambda {lams_value}\")\n",
    "        gam = GAMOptimizer(lams=lams_value, order=order_value, n_splines=n_splines)\n",
    "        gam.fit(response_trainset_camera, response_trainset_xyz)\n",
    "        pred_ei(gam, response_testset_camera_scaled, response_testset_xyz_scaled, f\"DeltaE Foster+CAVE with {n_splines} splines and lambda {lams_value}\", k)\n",
    "\n",
    "# Example usage: Create a dictionary mapping spline numbers to their corresponding lambda values and pass it to the function.\n",
    "splines_lams_dict = {\n",
    "    5: 1e-6,\n",
    "    10: 0.0001,\n",
    "    20: 0.01\n",
    "}\n",
    "if CAMERA == 'nikon':\n",
    "    test_gam_optimizer(splines_lams_dict)"
   ]
  },
  {
   "cell_type": "markdown",
   "metadata": {},
   "source": [
    "### Sigma"
   ]
  },
  {
   "cell_type": "code",
   "execution_count": null,
   "metadata": {},
   "outputs": [],
   "source": [
    "def test_gam_optimizer(splines_lams_dict, order_value=3):\n",
    "    \"\"\"\n",
    "    Test GAMOptimizer models with different numbers of splines and corresponding lambda values.\n",
    "\n",
    "    Parameters:\n",
    "    - splines_lams_dict: Dictionary where keys are spline numbers and values are the corresponding lambda values for regularization.\n",
    "    - order_value: The order of the spline. Default is 3.\n",
    "    \"\"\"\n",
    "    for n_splines, lams_value in splines_lams_dict.items():\n",
    "        print(f\"Testing GAMOptimizer with {n_splines} splines and lambda {lams_value}\")\n",
    "        gam = GAMOptimizer(lams=lams_value, order=order_value, n_splines=n_splines)\n",
    "        gam.fit(response_trainset_camera, response_trainset_xyz)\n",
    "        pred(gam, response_testset_camera, response_testset_xyz, f\"{n_splines} splines and lambda {lams_value}\")\n",
    "\n",
    "# Example usage: Create a dictionary mapping spline numbers to their corresponding lambda values and pass it to the function.\n",
    "splines_lams_dict = {\n",
    "    5: 1e-9,\n",
    "    10: 0.0001,\n",
    "    20: 0.0001\n",
    "}\n",
    "if CAMERA == 'sigma':\n",
    "    test_gam_optimizer(splines_lams_dict)"
   ]
  },
  {
   "cell_type": "code",
   "execution_count": null,
   "metadata": {},
   "outputs": [],
   "source": [
    "from models import RGBtoXYZNetwork\n",
    "\n",
    "mcdonalds_nn = RGBtoXYZNetwork()\n",
    "mcdonalds_nn.fit(response_trainset_camera, response_trainset_xyz)\n",
    "#pred_ei(mcdonalds_nn, response_testset_camera, response_testset_xyz, \"Foster 50\")"
   ]
  },
  {
   "cell_type": "markdown",
   "metadata": {},
   "source": [
    "### Fit Linear Model"
   ]
  },
  {
   "cell_type": "code",
   "execution_count": 133,
   "metadata": {},
   "outputs": [
    {
     "name": "stdout",
     "output_type": "stream",
     "text": [
      "---- RESULTS Foster 50 ----\n",
      "DeltaE mean: 0.86\n",
      "DeltaE max: 4.89\n",
      "DeltaE median: 0.62\n",
      "DeltaE 95 percentile: 2.48\n",
      "DeltaE 99 percentile: 3.70\n"
     ]
    },
    {
     "data": {
      "text/plain": [
       "array([[ 0.1502476 ,  0.17350496,  0.48297144],\n",
       "       [ 0.06908994,  0.07958993,  0.25862355],\n",
       "       [ 0.28081306,  0.2017619 ,  0.07543282],\n",
       "       ..., \n",
       "       [ 0.11167944,  0.065479  ,  0.08521249],\n",
       "       [ 0.04114221,  0.0421851 ,  0.078295  ],\n",
       "       [ 0.25659453,  0.26900094,  0.29904101]])"
      ]
     },
     "execution_count": 133,
     "metadata": {},
     "output_type": "execute_result"
    }
   ],
   "source": [
    "from sklearn.linear_model import LinearRegression\n",
    "from evaluate import pred, pred_ei\n",
    "\n",
    "linear = LinearRegression(fit_intercept=False)\n",
    "\n",
    "\n",
    "linear.fit(response_trainset_camera, response_trainset_xyz)\n",
    "pred_ei(linear, response_testset_camera_scaled, response_testset_xyz_scaled, \"Foster 50\", k)\n"
   ]
  },
  {
   "cell_type": "code",
   "execution_count": null,
   "metadata": {},
   "outputs": [],
   "source": [
    "from sklearn.pipeline import Pipeline\n",
    "from models import DeltaEOptimizer\n",
    "\n",
    "DE2000LCC = Pipeline([\n",
    "    ('regressor', DeltaEOptimizer(root_polynomial=False, degree=1))\n",
    "])\n",
    "\n",
    "\n",
    "DE2000LCC.fit(response_trainset_camera, response_trainset_xyz)\n",
    "pred_ei(DE2000LCC, response_testset_camera_scaled, response_testset_xyz_scaled, \"Foster 50\", k)\n"
   ]
  },
  {
   "cell_type": "markdown",
   "metadata": {},
   "source": [
    "### Fit 3rd order Root-Polynomial Model"
   ]
  },
  {
   "cell_type": "code",
   "execution_count": 134,
   "metadata": {},
   "outputs": [
    {
     "name": "stdout",
     "output_type": "stream",
     "text": [
      "---- RESULTS Foster 50 ----\n",
      "DeltaE mean: 0.69\n",
      "DeltaE max: 3.55\n",
      "DeltaE median: 0.56\n",
      "DeltaE 95 percentile: 1.79\n",
      "DeltaE 99 percentile: 2.76\n"
     ]
    },
    {
     "data": {
      "text/plain": [
       "array([[ 0.13697115,  0.1651093 ,  0.45953189],\n",
       "       [ 0.05691822,  0.07194525,  0.23673991],\n",
       "       [ 0.27923484,  0.20050752,  0.07615461],\n",
       "       ..., \n",
       "       [ 0.11764376,  0.06906851,  0.0944686 ],\n",
       "       [ 0.04201113,  0.04272232,  0.07978572],\n",
       "       [ 0.25732676,  0.26947671,  0.30009502]])"
      ]
     },
     "execution_count": 134,
     "metadata": {},
     "output_type": "execute_result"
    }
   ],
   "source": [
    "from models import PolynomialTransformer\n",
    "from sklearn.pipeline import Pipeline\n",
    "from sklearn.linear_model import LinearRegression\n",
    "\n",
    "RP_linear_3 = Pipeline([\n",
    "    ('transformer', PolynomialTransformer(degree=3, rp=True)),\n",
    "    ('regressor', LinearRegression(fit_intercept=False))\n",
    "])\n",
    "\n",
    "RP_linear_3.fit(response_trainset_camera, response_trainset_xyz)\n",
    "\n",
    "pred_ei(RP_linear_3, response_testset_camera_scaled, response_testset_xyz_scaled, \"Foster 50\", k)\n"
   ]
  },
  {
   "cell_type": "markdown",
   "metadata": {},
   "source": [
    "### Fit a 2nd order Root-Polynomial Model"
   ]
  },
  {
   "cell_type": "code",
   "execution_count": null,
   "metadata": {},
   "outputs": [],
   "source": [
    "from models import GAMOptimizer, PolynomialTransformer, DeltaEOptimizer\n",
    "from sklearn.pipeline import Pipeline\n",
    "from sklearn.linear_model import LinearRegression\n",
    "\n",
    "RP_linear_2 = Pipeline([\n",
    "    ('transformer', PolynomialTransformer(degree=2, rp=True)),\n",
    "    ('regressor', LinearRegression(fit_intercept=False))\n",
    "])\n",
    "\n",
    "\n",
    "RP_linear_2.fit(response_trainset_camera, response_trainset_xyz)\n",
    "pred_ei(RP_linear_2, response_testset_camera_scaled, response_testset_xyz_scaled, \"Foster 50\", k)\n"
   ]
  },
  {
   "cell_type": "code",
   "execution_count": 135,
   "metadata": {},
   "outputs": [
    {
     "name": "stdout",
     "output_type": "stream",
     "text": [
      "---- RESULTS Foster 50 ----\n",
      "DeltaE mean: 0.74\n",
      "DeltaE max: 4.37\n",
      "DeltaE median: 0.54\n",
      "DeltaE 95 percentile: 2.11\n",
      "DeltaE 99 percentile: 3.22\n"
     ]
    }
   ],
   "source": [
    "from colour import XYZ_to_Lab\n",
    "\n",
    "P_Linear_3 = Pipeline([\n",
    "    ('transformer', PolynomialTransformer(degree=3, rp=False)),\n",
    "    ('regressor', LinearRegression(fit_intercept=False))\n",
    "])\n",
    "\n",
    "\n",
    "P_Linear_3.fit(response_trainset_camera, response_trainset_xyz)\n",
    "prediction = pred_ei(P_Linear_3, response_testset_camera_scaled, response_testset_xyz_scaled, \"Foster 50\", k)"
   ]
  },
  {
   "cell_type": "code",
   "execution_count": null,
   "metadata": {},
   "outputs": [],
   "source": [
    "PCC_2 = Pipeline([\n",
    "    ('transformer', PolynomialTransformer(degree=2, rp=False)),\n",
    "    ('regressor', LinearRegression(fit_intercept=False))\n",
    "])\n",
    "\n",
    "\n",
    "PCC_2.fit(response_trainset_camera, response_trainset_xyz)\n",
    "pred_ei(PCC_2, response_testset_camera_scaled, response_testset_xyz_scaled, \"Foster 50\", k)\n"
   ]
  },
  {
   "cell_type": "code",
   "execution_count": null,
   "metadata": {},
   "outputs": [],
   "source": [
    "from sklearn.pipeline import Pipeline\n",
    "from models import DeltaEOptimizer\n",
    "\n",
    "DE2000P = Pipeline([\n",
    "    ('regressor', DeltaEOptimizer(root_polynomial=False, degree=3))\n",
    "])\n",
    "\n",
    "\n",
    "DE2000P.fit(response_trainset_camera, response_trainset_xyz)\n",
    "pred_ei(DE2000P, response_testset_camera_scaled, response_testset_xyz_scaled, \"Foster 50\", k)\n"
   ]
  },
  {
   "cell_type": "code",
   "execution_count": null,
   "metadata": {},
   "outputs": [],
   "source": [
    "from sklearn.pipeline import Pipeline\n",
    "from models import DeltaEOptimizer\n",
    "\n",
    "DE2000RP = Pipeline([\n",
    "    ('regressor', DeltaEOptimizer(root_polynomial=True, degree=3))\n",
    "])\n",
    "\n",
    "\n",
    "DE2000RP.fit(response_trainset_camera, response_trainset_xyz)\n",
    "pred_ei(DE2000RP, response_testset_camera_scaled, response_testset_xyz_scaled, \"Foster 50\", k)\n"
   ]
  }
 ],
 "metadata": {
  "interpreter": {
   "hash": "cf57dc982f5f7f7659d5105c425ec4d8a9bd6722199c7740e28d03845b9098c4"
  },
  "kernelspec": {
   "display_name": "Python 3.10.0 ('dippa')",
   "language": "python",
   "name": "python3"
  },
  "language_info": {
   "codemirror_mode": {
    "name": "ipython",
    "version": 3
   },
   "file_extension": ".py",
   "mimetype": "text/x-python",
   "name": "python",
   "nbconvert_exporter": "python",
   "pygments_lexer": "ipython3",
   "version": "3.12.2"
  },
  "orig_nbformat": 4
 },
 "nbformat": 4,
 "nbformat_minor": 2
}
