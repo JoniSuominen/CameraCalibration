{
 "cells": [
  {
   "cell_type": "code",
   "execution_count": null,
   "id": "a28c7592",
   "metadata": {},
   "outputs": [],
   "source": [
    "from evaluate import pred\n",
    "from preprocessing import PolynomialTransformer, GAMOptimizer, DeltaEOptimizer\n",
    "import numpy as np\n",
    "import colour\n",
    "from sklearn.model_selection import train_test_split\n",
    "from sklearn.pipeline import Pipeline\n",
    "import matplotlib.pyplot as plt\n",
    "from utils import deltae_mean, parse_reflectance_spectra, interleave_arrays\n",
    "from sklearn.linear_model import LinearRegression\n",
    "from sklearn.metrics import make_scorer\n",
    "from skopt import BayesSearchCV\n",
    "np.int = np.int64\n",
    "import pandas as pd\n"
   ]
  },
  {
   "cell_type": "code",
   "execution_count": null,
   "id": "cb66f8a6",
   "metadata": {},
   "outputs": [],
   "source": [
    "# Constants\n",
    "SFU_FILE_PATH = 'reflect_db.reflect'\n",
    "CMF_RANGE = colour.SpectralShape(400, 700, 10)\n",
    "ILLUMINANT = \"D65\"\n",
    "CAMERA = 'Nikon 5100 (NPL)'\n",
    "TEST_SIZE = 0.1\n",
    "RANDOM_STATE = 0\n",
    "CANON_PATH = \"CANON.csv\"\n",
    "np.random.seed(RANDOM_STATE)\n",
    "def load_spectral_data(csv_file_path):\n",
    "    \"\"\"\n",
    "    Load spectral data from a CSV file.\n",
    "    The first column is assumed to be non-spectral (e.g., an identifier).\n",
    "    \"\"\"\n",
    "    df = pd.read_csv(csv_file_path)\n",
    "    spectral_data = df.iloc[:, 1:].to_numpy()\n",
    "    return spectral_data.T"
   ]
  },
  {
   "cell_type": "code",
   "execution_count": null,
   "id": "93f276d9",
   "metadata": {
    "lines_to_next_cell": 1
   },
   "outputs": [],
   "source": [
    "from colour.colorimetry import sds_and_msds_to_msds\n",
    "from colour import read_sds_from_csv_file\n",
    "from colour.plotting import plot_multi_cmfs\n",
    "\n",
    "sensitivities = sds_and_msds_to_msds(\n",
    "    read_sds_from_csv_file(CANON_PATH).values()\n",
    ")\n",
    "\n",
    "plot_multi_cmfs([sensitivities,  \"CIE 1931 2 Degree Standard Observer\"])\n",
    "\n",
    "def load_data():\n",
    "    \"\"\"\n",
    "    Load and align spectral data.\n",
    "    \"\"\"\n",
    "    \n",
    "    cmfs = colour.colorimetry.MSDS_CMFS_STANDARD_OBSERVER['CIE 1931 2 Degree Standard Observer'].align(CMF_RANGE)\n",
    "\n",
    "    ss = sensitivities.align(CMF_RANGE)\n",
    "    \n",
    "    train_set, _ = parse_reflectance_spectra(SFU_FILE_PATH)\n",
    "    test_set = load_spectral_data(\"foster_new.csv\")\n",
    "    test_data = colour.MultiSpectralDistributions(test_set, CMF_RANGE)\n",
    "    train_data = colour.MultiSpectralDistributions(train_set).align(CMF_RANGE)\n",
    "    macbeth = colour.MultiSpectralDistributions(colour.SDS_COLOURCHECKERS['babel_average'])\n",
    "    D65 = colour.SDS_ILLUMINANTS[ILLUMINANT].align(CMF_RANGE)\n",
    "\n",
    "    return cmfs, ss, train_data, test_data, D65"
   ]
  },
  {
   "cell_type": "code",
   "execution_count": null,
   "id": "132448f2",
   "metadata": {
    "lines_to_next_cell": 1
   },
   "outputs": [],
   "source": [
    "def compute_and_split_responses(cmfs, ss, train, test, D65):\n",
    "    \"\"\"\n",
    "    Compute responses and split data for training and testing.\n",
    "    \"\"\"\n",
    "    norm_d65 = colour.characterisation.normalise_illuminant(D65, ss)\n",
    "\n",
    "    response_testset_xyz = colour.characterisation.training_data_sds_to_XYZ(test, cmfs, D65, None)\n",
    "    response_trainset_xyz = colour.characterisation.training_data_sds_to_XYZ(train, cmfs, D65, None)\n",
    "    response_testset_sensor, _ = colour.characterisation.training_data_sds_to_RGB(test, ss, norm_d65)\n",
    "    response_trainset_sensor, _  = colour.characterisation.training_data_sds_to_RGB(train, ss, norm_d65)\n",
    "\n",
    "    \n",
    "    x_train, x_test, y_train, y_test = train_test_split(response_trainset_sensor, response_trainset_xyz, test_size=TEST_SIZE, random_state=RANDOM_STATE)\n",
    "    return (x_train, x_test, y_train, y_test), response_testset_sensor, response_testset_xyz"
   ]
  },
  {
   "cell_type": "code",
   "execution_count": null,
   "id": "3a61e56b",
   "metadata": {
    "lines_to_next_cell": 1
   },
   "outputs": [],
   "source": [
    "def train_model(X_train, y_train):\n",
    "    \"\"\"\n",
    "    Train the model with the given data.\n",
    "    \"\"\"\n",
    "    \n",
    "    custom_scorer = make_scorer(deltae_mean, greater_is_better=False)\n",
    "    model = GAMOptimizer(lams=0.01, order=3, n_splines=10)\n",
    "    # model = GAMOptimizer(lams=3.1622776601683795e-10, order=1, n_splines=5)\n",
    "    # model.fit(X_train, y_train)\n",
    "    #coefs = np.concatenate((model.predictor_X.coef_, model.predictor_Y.coef_, model.predictor_Z.coef_))\n",
    "    RP_linear = Pipeline([\n",
    "        ('regressor', DeltaEOptimizer())\n",
    "     ])\n",
    "    \n",
    "    #RP_linear = Pipeline([\n",
    "    #    ('transformer', PolynomialTransformer(degree=2, rp=True)),\n",
    "    #    ('regressor', LinearRegression())\n",
    "    #])\n",
    "    \n",
    "    \n",
    "    param_grid = {\n",
    "        'regressor__l': [1*10**(-i) for i in range(1,)],  # Example values, adjust as needed\n",
    "        'spline_transformer__degree': [1,2,3],  # Example values, adjust as needed\n",
    "        'spline_transformer__n_splines': [3,4,5],  # Example values, adjust as needed\n",
    "    }\n",
    "\n",
    "    param_grid_gam = {\n",
    "        'lams': [1*10**(-i) for i in range(2, 10)],\n",
    "    }\n",
    "    \n",
    "    \n",
    "    bayes_search = BayesSearchCV(\n",
    "        model,\n",
    "        param_grid_gam,\n",
    "        n_iter=50,  # Number of iterations for the Bayesian optimization\n",
    "        cv=5,\n",
    "        n_jobs=-1,\n",
    "        scoring=custom_scorer,\n",
    "        verbose=2,\n",
    "        random_state=RANDOM_STATE,  # Set a random seed for reproducibility\n",
    "    )\n",
    "\n",
    "\n",
    "    bayes_search.fit(X_train, y_train)\n",
    "    #features = [0, 1, 2, (0, 1), (0, 2), (1, 2)]\n",
    "    #feature_range = np.linspace(0, 1, 50)\n",
    "    #xx0, xx1, xx2 = np.meshgrid(feature_range, feature_range, feature_range, indexing='ij')\n",
    "\n",
    "    # Now, flatten the grid to feed into the regressor\n",
    "    #grid = np.vstack([xx0.ravel(), xx1.ravel(), xx2.ravel()]).T\n",
    "    \n",
    "    #PartialDependenceDisplay.from_estimator(RP_linear, grid, features, target=0)\n",
    "    #plt.show(block=True)\n",
    "    \n",
    "    print(\"Best parameters:\", bayes_search.best_params_)\n",
    "    # model.plot_partial_dependences()\n",
    "    return bayes_search"
   ]
  },
  {
   "cell_type": "code",
   "execution_count": null,
   "id": "add0a648",
   "metadata": {
    "lines_to_next_cell": 1
   },
   "outputs": [],
   "source": [
    "def plot_results(model, response_sensor_macbeth, response_human_macbeth):\n",
    "    \"\"\"\n",
    "    Plot the results.\n",
    "    \"\"\"\n",
    "    macbeth_out_srgb = colour.XYZ_to_sRGB(response_human_macbeth)\n",
    "    response_sensor_macbeth = colour.XYZ_to_sRGB(model.predict(response_sensor_macbeth))\n",
    "    interleaved_array = interleave_arrays(macbeth_out_srgb, response_sensor_macbeth)\n",
    "    colour.plotting.plot_multi_colour_swatches(interleaved_array, columns=6, direction=\"-y\", spacing=0.05, legend=False, show=False, compare_swatches=\"Diagonal\")\n",
    "    plt.show(block=True)"
   ]
  },
  {
   "cell_type": "code",
   "execution_count": null,
   "id": "d26aee3a",
   "metadata": {
    "lines_to_next_cell": 1
   },
   "outputs": [],
   "source": [
    "def main():\n",
    "    cmfs, ss, test_sfu, macbeth, D65 = load_data()\n",
    "    (X_train, X_test, y_train, y_test), response_sensor_macbeth, response_human_macbeth = compute_and_split_responses(cmfs, ss, test_sfu, macbeth, D65)\n",
    "    n_samples = X_train.shape[0]\n",
    "    model = train_model(X_train[0:n_samples], y_train[0:n_samples])\n",
    "    pred(model, X_test, y_test, \"DeltaE Foster+CAVE\")\n",
    "    pred(model, response_sensor_macbeth, response_human_macbeth, \"DeltaE SFU\")\n",
    "    # plot_results(model, response_sensor_macbeth, response_human_macbeth)"
   ]
  },
  {
   "cell_type": "code",
   "execution_count": null,
   "id": "34d58829",
   "metadata": {},
   "outputs": [],
   "source": [
    "if __name__ == \"__main__\":\n",
    "    main()"
   ]
  }
 ],
 "metadata": {
  "interpreter": {
   "hash": "cf57dc982f5f7f7659d5105c425ec4d8a9bd6722199c7740e28d03845b9098c4"
  },
  "jupytext": {
   "cell_metadata_filter": "-all",
   "formats": "ipynb,py",
   "main_language": "python"
  },
  "kernelspec": {
   "display_name": "Python 3.10.0 ('dippa')",
   "language": "python",
   "name": "python3"
  },
  "language_info": {
   "codemirror_mode": {
    "name": "ipython",
    "version": 3
   },
   "file_extension": ".py",
   "mimetype": "text/x-python",
   "name": "python",
   "nbconvert_exporter": "python",
   "pygments_lexer": "ipython3",
   "version": "3.10.13"
  }
 },
 "nbformat": 4,
 "nbformat_minor": 5
}
