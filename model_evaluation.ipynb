{
 "cells": [
  {
   "cell_type": "markdown",
   "metadata": {},
   "source": [
    "# Colour Correction using Splines"
   ]
  },
  {
   "cell_type": "markdown",
   "metadata": {},
   "source": [
    "### Define constants"
   ]
  },
  {
   "cell_type": "code",
   "execution_count": 2,
   "metadata": {},
   "outputs": [],
   "source": [
    "%load_ext autoreload\n",
    "%autoreload 2\n",
    "import colour\n",
    "from data import load_dataset_sfu, load_dataset_csv, load_cmfs, load_camera, load_insitu, msds_to_rgb, msds_to_xyz, load_dataset_skin\n",
    "import numpy as np\n",
    "\n",
    "RANDOM_STATE = 0\n",
    "np.random.seed(RANDOM_STATE)\n",
    "    \n",
    "SFU_FILE_PATH = 'data/reflect_db.reflect'\n",
    "CAVE_FOSTER2004_PATH = 'data/cave_foster2002.csv'\n",
    "INSITU_PATH = \"data/insitu_dataset.csv\"\n",
    "CAVE_PATH = 'data/cave.csv'\n",
    "FOSTER_50_PATH = 'data/foster50.csv'\n",
    "CAMERA = 'sigma'"
   ]
  },
  {
   "cell_type": "code",
   "execution_count": 3,
   "metadata": {},
   "outputs": [],
   "source": [
    "\n",
    "# sfu_dataset = load_dataset_sfu(SFU_FILE_PATH)\n",
    "cave_foster2004_dataset = load_dataset_csv(CAVE_FOSTER2004_PATH)\n",
    "foster_50_dataset = load_dataset_csv(FOSTER_50_PATH)\n",
    "insitu = load_insitu(INSITU_PATH)\n",
    "# cave = load_dataset_csv(CAVE_PATH)\n",
    "# skin = load_dataset_skin()\n"
   ]
  },
  {
   "cell_type": "code",
   "execution_count": 4,
   "metadata": {},
   "outputs": [],
   "source": [
    "from plotting import plot_chromaticity_diagram\n",
    "TRAIN = cave_foster2004_dataset\n",
    "TEST = foster_50_dataset\n",
    "VALIDATION = insitu"
   ]
  },
  {
   "cell_type": "markdown",
   "metadata": {},
   "source": [
    "### Computing Observer Responses\n",
    "We can easily change the order of test and train sets here"
   ]
  },
  {
   "cell_type": "code",
   "execution_count": 5,
   "metadata": {},
   "outputs": [
    {
     "name": "stdout",
     "output_type": "stream",
     "text": [
      "[ 0.94940092  1.          1.08709122]\n",
      "[ 0.94940092  1.          1.08709122]\n",
      "[ 0.94940092  1.          1.08709122]\n"
     ]
    }
   ],
   "source": [
    "from plotting import plot_chromaticity_diagram\n",
    "from colour.characterisation import training_data_sds_to_XYZ\n",
    "\n",
    "cmfs, illuminant = load_cmfs()\n",
    "response_trainset_xyz = msds_to_xyz(TRAIN, cmfs, illuminant)\n",
    "response_testset_xyz = msds_to_xyz(TEST, cmfs, illuminant)\n",
    "response_validation_xyz = msds_to_xyz(VALIDATION, cmfs, illuminant)\n"
   ]
  },
  {
   "cell_type": "markdown",
   "metadata": {},
   "source": [
    "### Computing Camera Responses"
   ]
  },
  {
   "cell_type": "code",
   "execution_count": 37,
   "metadata": {},
   "outputs": [
    {
     "name": "stdout",
     "output_type": "stream",
     "text": [
      "[  938.7258382   1714.98576086  1939.82119587]\n",
      "[  938.7258382   1714.98576086  1939.82119587]\n",
      "[  938.7258382   1714.98576086  1939.82119587]\n",
      "[]\n"
     ]
    }
   ],
   "source": [
    "from colour.characterisation import normalise_illuminant, training_data_sds_to_RGB\n",
    "import numpy as np\n",
    "MSDS_TRAIN = load_camera(CAMERA)\n",
    "\n",
    "response_trainset_camera = msds_to_rgb(TRAIN,MSDS_TRAIN, illuminant) * 2\n",
    "response_testset_camera = msds_to_rgb(TEST,MSDS_TRAIN, illuminant)\n",
    "response_validationset_camera = msds_to_rgb(VALIDATION,MSDS_TRAIN, illuminant)\n"
   ]
  },
  {
   "cell_type": "markdown",
   "metadata": {},
   "source": [
    "### Fit Generalized Additive Model with P-splines"
   ]
  },
  {
   "cell_type": "markdown",
   "metadata": {},
   "source": [
    "### Nikon"
   ]
  },
  {
   "cell_type": "code",
   "execution_count": 41,
   "metadata": {},
   "outputs": [],
   "source": [
    "from sklearn.metrics import make_scorer\n",
    "from colour_math import deltae_mean\n",
    "from models import GAMOptimizer\n",
    "from evaluate import pred\n",
    "np.int = np.int64\n",
    "if CAMERA == 'nikon':\n",
    "    # gam = GAMOptimizer(lams=1e-6, order=3, n_splines=5)\n",
    "    \n",
    "    # gam = GAMOptimizer(lams=0.0001,order=3, n_splines=10)\n",
    "    gam = GAMOptimizer(lams=0.01,order=3, n_splines=20)\n",
    "\n",
    "    gam.fit(response_trainset_camera, response_trainset_xyz)\n",
    "\n",
    "    pred(gam, response_testset_camera, response_testset_xyz, \"DeltaE Foster+CAVE\")"
   ]
  },
  {
   "cell_type": "markdown",
   "metadata": {},
   "source": [
    "### Sigma"
   ]
  },
  {
   "cell_type": "code",
   "execution_count": 45,
   "metadata": {},
   "outputs": [
    {
     "name": "stdout",
     "output_type": "stream",
     "text": [
      "3600\n",
      "---- RESULTS DeltaE Foster+CAVE ----\n",
      "DeltaE mean: 1.73\n",
      "DeltaE max: 16.95\n",
      "DeltaE median: 1.46\n",
      "DeltaE 95 percentile: 4.00\n",
      "DeltaE 99 percentile: 5.94\n"
     ]
    }
   ],
   "source": [
    "from sklearn.metrics import make_scorer\n",
    "from colour_math import deltae_mean\n",
    "from models import GAMOptimizer\n",
    "from evaluate import pred\n",
    "np.int = np.int64\n",
    "if CAMERA == 'sigma':\n",
    "    # gam = GAMOptimizer(lams=1e-9, order=3, n_splines=5)\n",
    "    # gam = GAMOptimizer(lams=0.0001,order=3, n_splines=10)\n",
    "    gam = GAMOptimizer(lams=0.0001,order=3, n_splines=20)\n",
    "\n",
    "    gam.fit(response_trainset_camera, response_trainset_xyz)\n",
    "\n",
    "    pred(gam, response_testset_camera, response_testset_xyz, \"DeltaE Foster+CAVE\")"
   ]
  },
  {
   "cell_type": "markdown",
   "metadata": {},
   "source": [
    "### Fit Linear Model"
   ]
  },
  {
   "cell_type": "code",
   "execution_count": 43,
   "metadata": {},
   "outputs": [
    {
     "name": "stdout",
     "output_type": "stream",
     "text": [
      "---- RESULTS Foster 50 ----\n",
      "DeltaE mean: 2.20\n",
      "DeltaE max: 23.49\n",
      "DeltaE median: 1.52\n",
      "DeltaE 95 percentile: 6.98\n",
      "DeltaE 99 percentile: 10.56\n"
     ]
    }
   ],
   "source": [
    "from sklearn.linear_model import LinearRegression\n",
    "\n",
    "linear = LinearRegression(fit_intercept=False)\n",
    "\n",
    "\n",
    "linear.fit(response_trainset_camera, response_trainset_xyz)\n",
    "pred(linear, response_testset_camera, response_testset_xyz, \"Foster 50\")\n"
   ]
  },
  {
   "cell_type": "code",
   "execution_count": 46,
   "metadata": {},
   "outputs": [
    {
     "name": "stdout",
     "output_type": "stream",
     "text": [
      "  message: Optimization terminated successfully.\n",
      "  success: True\n",
      "   status: 0\n",
      "      fun: 2.6196741857032744\n",
      "        x: [ 8.371e-01 -5.934e-01  6.989e-01 -4.839e-01  1.788e+00\n",
      "            -2.987e-01  9.454e-01 -4.451e+00  4.568e+00]\n",
      "      nit: 30\n",
      "      jac: [-9.537e-07 -3.874e-07 -5.960e-08  2.295e-06  1.490e-06\n",
      "             1.073e-06 -1.162e-06 -7.749e-07 -6.855e-07]\n",
      " hess_inv: [[ 1.262e+00 -2.825e+00 ..., -2.501e+00  1.544e+00]\n",
      "            [-2.825e+00  7.011e+00 ...,  6.297e+00 -4.036e+00]\n",
      "            ..., \n",
      "            [-2.501e+00  6.297e+00 ...,  1.045e+01 -6.912e+00]\n",
      "            [ 1.544e+00 -4.036e+00 ..., -6.912e+00  4.737e+00]]\n",
      "     nfev: 370\n",
      "     njev: 37\n",
      "---- RESULTS DeltaE Foster+CAVE ----\n",
      "DeltaE mean: 2.57\n",
      "DeltaE max: 19.60\n",
      "DeltaE median: 2.15\n",
      "DeltaE 95 percentile: 5.59\n",
      "DeltaE 99 percentile: 7.84\n"
     ]
    }
   ],
   "source": [
    "from sklearn.pipeline import Pipeline\n",
    "from models import DeltaEOptimizer\n",
    "\n",
    "DE2000RP = Pipeline([\n",
    "    ('regressor', DeltaEOptimizer(root_polynomial=False, degree=1))\n",
    "])\n",
    "\n",
    "\n",
    "DE2000RP.fit(response_trainset_camera, response_trainset_xyz)\n",
    "pred(DE2000RP, response_testset_camera, response_testset_xyz, \"DeltaE Foster+CAVE\")"
   ]
  },
  {
   "cell_type": "markdown",
   "metadata": {},
   "source": [
    "### Fit 3rd order Root-Polynomial Model"
   ]
  },
  {
   "cell_type": "code",
   "execution_count": 47,
   "metadata": {},
   "outputs": [
    {
     "name": "stdout",
     "output_type": "stream",
     "text": [
      "---- RESULTS DeltaE Foster+CAVE ----\n",
      "DeltaE mean: 2.32\n",
      "DeltaE max: 34.32\n",
      "DeltaE median: 1.65\n",
      "DeltaE 95 percentile: 6.90\n",
      "DeltaE 99 percentile: 11.37\n"
     ]
    }
   ],
   "source": [
    "from models import PolynomialTransformer\n",
    "from sklearn.pipeline import Pipeline\n",
    "from sklearn.linear_model import LinearRegression\n",
    "\n",
    "RP_linear_3 = Pipeline([\n",
    "    ('transformer', PolynomialTransformer(degree=3, rp=True)),\n",
    "    ('regressor', LinearRegression(fit_intercept=False))\n",
    "])\n",
    "\n",
    "RP_linear_3.fit(response_trainset_camera, response_trainset_xyz)\n",
    "\n",
    "pred(RP_linear_3, response_testset_camera, response_testset_xyz, \"DeltaE Foster+CAVE\")\n"
   ]
  },
  {
   "cell_type": "markdown",
   "metadata": {},
   "source": [
    "### Fit a 2nd order Root-Polynomial Model"
   ]
  },
  {
   "cell_type": "code",
   "execution_count": 48,
   "metadata": {},
   "outputs": [
    {
     "name": "stdout",
     "output_type": "stream",
     "text": [
      "---- RESULTS DeltaE Foster+CAVE ----\n",
      "DeltaE mean: 2.17\n",
      "DeltaE max: 25.38\n",
      "DeltaE median: 1.50\n",
      "DeltaE 95 percentile: 6.84\n",
      "DeltaE 99 percentile: 10.04\n"
     ]
    }
   ],
   "source": [
    "from models import GAMOptimizer, PolynomialTransformer, DeltaEOptimizer\n",
    "from sklearn.pipeline import Pipeline\n",
    "from sklearn.linear_model import LinearRegression\n",
    "\n",
    "RP_linear_2 = Pipeline([\n",
    "    ('transformer', PolynomialTransformer(degree=2, rp=True)),\n",
    "    ('regressor', LinearRegression(fit_intercept=False))\n",
    "])\n",
    "\n",
    "\n",
    "RP_linear_2.fit(response_trainset_camera, response_trainset_xyz)\n",
    "pred(RP_linear_2, response_testset_camera, response_testset_xyz, \"DeltaE Foster+CAVE\")\n"
   ]
  },
  {
   "cell_type": "code",
   "execution_count": 53,
   "metadata": {},
   "outputs": [
    {
     "name": "stdout",
     "output_type": "stream",
     "text": [
      "---- RESULTS DeltaE Foster+CAVE ----\n",
      "DeltaE mean: 1.92\n",
      "DeltaE max: 20.78\n",
      "DeltaE median: 1.49\n",
      "DeltaE 95 percentile: 5.01\n",
      "DeltaE 99 percentile: 8.16\n"
     ]
    }
   ],
   "source": [
    "P_Linear_3 = Pipeline([\n",
    "    ('transformer', PolynomialTransformer(degree=3, rp=False)),\n",
    "    ('regressor', LinearRegression(fit_intercept=False))\n",
    "])\n",
    "\n",
    "\n",
    "P_Linear_3.fit(response_trainset_camera, response_trainset_xyz)\n",
    "pred(P_Linear_3, response_testset_camera, response_testset_xyz, \"DeltaE Foster+CAVE\")"
   ]
  },
  {
   "cell_type": "code",
   "execution_count": 52,
   "metadata": {},
   "outputs": [
    {
     "name": "stdout",
     "output_type": "stream",
     "text": [
      "---- RESULTS DeltaE Foster+CAVE ----\n",
      "DeltaE mean: 2.02\n",
      "DeltaE max: 22.07\n",
      "DeltaE median: 1.49\n",
      "DeltaE 95 percentile: 5.82\n",
      "DeltaE 99 percentile: 9.20\n"
     ]
    }
   ],
   "source": [
    "P_linear = Pipeline([\n",
    "    ('transformer', PolynomialTransformer(degree=2, rp=False)),\n",
    "    ('regressor', LinearRegression(fit_intercept=False))\n",
    "])\n",
    "\n",
    "\n",
    "P_linear.fit(response_trainset_camera, response_trainset_xyz)\n",
    "pred(P_linear, response_testset_camera, response_testset_xyz, \"DeltaE Foster+CAVE\")\n"
   ]
  },
  {
   "cell_type": "code",
   "execution_count": 54,
   "metadata": {},
   "outputs": [
    {
     "name": "stdout",
     "output_type": "stream",
     "text": [
      "  message: Desired error not necessarily achieved due to precision loss.\n",
      "  success: False\n",
      "   status: 2\n",
      "      fun: 1.5397398602444612\n",
      "        x: [ 8.418e-01 -6.156e-01 ..., -7.223e+00  2.446e+00]\n",
      "      nit: 244\n",
      "      jac: [-7.191e-04 -5.947e-04 ...,  9.537e-05  6.939e-05]\n",
      " hess_inv: [[ 2.272e+00 -4.223e+00 ..., -1.291e+01 -9.161e-01]\n",
      "            [-4.223e+00  9.763e+00 ...,  9.804e+00  1.391e+01]\n",
      "            ..., \n",
      "            [-1.291e+01  9.804e+00 ...,  2.793e+03 -1.602e+03]\n",
      "            [-9.161e-01  1.391e+01 ..., -1.602e+03  1.347e+03]]\n",
      "     nfev: 18917\n",
      "     njev: 326\n",
      "---- RESULTS DeltaE Foster+CAVE ----\n",
      "DeltaE mean: 1.98\n",
      "DeltaE max: 17.92\n",
      "DeltaE median: 1.74\n",
      "DeltaE 95 percentile: 4.42\n",
      "DeltaE 99 percentile: 6.37\n"
     ]
    }
   ],
   "source": [
    "from sklearn.pipeline import Pipeline\n",
    "from models import DeltaEOptimizer\n",
    "\n",
    "DE2000P = Pipeline([\n",
    "    ('regressor', DeltaEOptimizer(root_polynomial=False, degree=3))\n",
    "])\n",
    "\n",
    "\n",
    "DE2000P.fit(response_trainset_camera, response_trainset_xyz)\n",
    "pred(DE2000P, response_testset_camera, response_testset_xyz, \"DeltaE Foster+CAVE\")"
   ]
  },
  {
   "cell_type": "code",
   "execution_count": 55,
   "metadata": {},
   "outputs": [
    {
     "name": "stdout",
     "output_type": "stream",
     "text": [
      "  message: Desired error not necessarily achieved due to precision loss.\n",
      "  success: False\n",
      "   status: 2\n",
      "      fun: 1.5985979848044964\n",
      "        x: [ 5.327e+01 -4.380e+02 ..., -3.162e+01 -8.182e+01]\n",
      "      nit: 886\n",
      "      jac: [-3.651e-06 -7.506e-05 ...,  7.200e-05  7.273e-05]\n",
      " hess_inv: [[ 2.521e+04  3.125e+04 ...,  2.189e+04  3.597e+04]\n",
      "            [ 3.125e+04  4.436e+04 ...,  2.572e+04  3.509e+04]\n",
      "            ..., \n",
      "            [ 2.189e+04  2.572e+04 ...,  2.736e+04  3.628e+04]\n",
      "            [ 3.597e+04  3.509e+04 ...,  3.628e+04  2.667e+05]]\n",
      "     nfev: 42800\n",
      "     njev: 1070\n",
      "---- RESULTS DeltaE Foster+CAVE ----\n",
      "DeltaE mean: 2.00\n",
      "DeltaE max: 43.94\n",
      "DeltaE median: 1.35\n",
      "DeltaE 95 percentile: 5.51\n",
      "DeltaE 99 percentile: 9.70\n"
     ]
    }
   ],
   "source": [
    "from sklearn.pipeline import Pipeline\n",
    "from models import DeltaEOptimizer\n",
    "\n",
    "DE2000RP = Pipeline([\n",
    "    ('regressor', DeltaEOptimizer(root_polynomial=True, degree=3))\n",
    "])\n",
    "\n",
    "\n",
    "DE2000RP.fit(response_trainset_camera, response_trainset_xyz)\n",
    "pred(DE2000RP, response_testset_camera, response_testset_xyz, \"DeltaE Foster+CAVE\")"
   ]
  }
 ],
 "metadata": {
  "interpreter": {
   "hash": "cf57dc982f5f7f7659d5105c425ec4d8a9bd6722199c7740e28d03845b9098c4"
  },
  "kernelspec": {
   "display_name": "Python 3.10.0 ('dippa')",
   "language": "python",
   "name": "python3"
  },
  "language_info": {
   "codemirror_mode": {
    "name": "ipython",
    "version": 3
   },
   "file_extension": ".py",
   "mimetype": "text/x-python",
   "name": "python",
   "nbconvert_exporter": "python",
   "pygments_lexer": "ipython3",
   "version": "3.10.4"
  },
  "orig_nbformat": 4
 },
 "nbformat": 4,
 "nbformat_minor": 2
}
