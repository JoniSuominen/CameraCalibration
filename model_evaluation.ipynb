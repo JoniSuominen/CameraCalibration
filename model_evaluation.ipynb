{
 "cells": [
  {
   "cell_type": "markdown",
   "metadata": {},
   "source": [
    "# Colour Correction using Splines"
   ]
  },
  {
   "cell_type": "markdown",
   "metadata": {},
   "source": [
    "### Define constants"
   ]
  },
  {
   "cell_type": "code",
   "execution_count": 23,
   "metadata": {},
   "outputs": [
    {
     "name": "stdout",
     "output_type": "stream",
     "text": [
      "The autoreload extension is already loaded. To reload it, use:\n",
      "  %reload_ext autoreload\n"
     ]
    }
   ],
   "source": [
    "# Enable automatic reloading of modules before executing code to ensure latest changes are used.\n",
    "%load_ext autoreload\n",
    "%autoreload 2\n",
    "\n",
    "# Importing necessary libraries and functions.\n",
    "# 'colour' is used for color science computations.\n",
    "# 'data' contains functions to load various datasets and color matching functions.\n",
    "import colour\n",
    "from data import (load_dataset_sfu, load_dataset_csv, load_cmfs, \n",
    "                  load_camera, load_insitu, msds_to_rgb, msds_to_xyz, load_dataset_skin)\n",
    "import numpy as np\n",
    "\n",
    "# Setting a seed for random number generation to ensure reproducibility.\n",
    "RANDOM_STATE = 0\n",
    "np.random.seed(RANDOM_STATE)\n",
    "\n",
    "# Defining file paths for the datasets. These files should contain the data needed for analysis.\n",
    "SFU_FILE_PATH = 'data/reflect_db.reflect'  # SFU material reflectance database\n",
    "CAVE_FOSTER2004_PATH = 'data/cave_foster2002.csv'  # CAVE dataset for color constancy\n",
    "INSITU_PATH = \"data/insitu_dataset.csv\"  # In-situ measurements dataset\n",
    "CAVE_PATH = 'data/cave.csv'  # Another CAVE dataset file\n",
    "FOSTER_50_PATH = 'data/foster50.csv'  # Foster dataset with 50 images for color analysis\n",
    "CAMERA = 'nikon'  # Specifying the camera model used in the datasets or for simulation\n"
   ]
  },
  {
   "cell_type": "code",
   "execution_count": 24,
   "metadata": {},
   "outputs": [],
   "source": [
    "cave_foster2004_dataset = load_dataset_csv(CAVE_FOSTER2004_PATH)\n",
    "foster_50_dataset = load_dataset_csv(FOSTER_50_PATH)\n",
    "insitu = load_insitu(INSITU_PATH)\n"
   ]
  },
  {
   "cell_type": "code",
   "execution_count": 25,
   "metadata": {},
   "outputs": [],
   "source": [
    "TRAIN = cave_foster2004_dataset\n",
    "TEST = foster_50_dataset\n",
    "VALIDATION = insitu"
   ]
  },
  {
   "cell_type": "markdown",
   "metadata": {},
   "source": [
    "### Computing Observer Responses\n",
    "We can easily change the order of test and train sets here"
   ]
  },
  {
   "cell_type": "code",
   "execution_count": 26,
   "metadata": {},
   "outputs": [
    {
     "name": "stdout",
     "output_type": "stream",
     "text": [
      "[ 0.94940092  1.          1.08709122]\n",
      "[ 0.94940092  1.          1.08709122]\n",
      "[ 0.94940092  1.          1.08709122]\n"
     ]
    }
   ],
   "source": [
    "from plotting import plot_chromaticity_diagram\n",
    "from colour.characterisation import training_data_sds_to_XYZ\n",
    "\n",
    "cmfs, illuminant = load_cmfs()\n",
    "response_trainset_xyz = msds_to_xyz(TRAIN, cmfs, illuminant)\n",
    "response_testset_xyz = msds_to_xyz(TEST, cmfs, illuminant)\n",
    "response_validation_xyz = msds_to_xyz(VALIDATION, cmfs, illuminant)\n"
   ]
  },
  {
   "cell_type": "markdown",
   "metadata": {},
   "source": [
    "### Computing Camera Responses"
   ]
  },
  {
   "cell_type": "code",
   "execution_count": 27,
   "metadata": {},
   "outputs": [
    {
     "name": "stdout",
     "output_type": "stream",
     "text": [
      "[  613.25528366  1055.57702291   900.69359634]\n",
      "[  613.25528366  1055.57702291   900.69359634]\n",
      "[  613.25528366  1055.57702291   900.69359634]\n"
     ]
    }
   ],
   "source": [
    "from colour.characterisation import normalise_illuminant, training_data_sds_to_RGB\n",
    "import numpy as np\n",
    "MSDS_TRAIN = load_camera(CAMERA)\n",
    "\n",
    "response_trainset_camera = msds_to_rgb(TRAIN,MSDS_TRAIN, illuminant)\n",
    "response_testset_camera = msds_to_rgb(TEST,MSDS_TRAIN, illuminant)\n",
    "response_validationset_camera = msds_to_rgb(VALIDATION,MSDS_TRAIN, illuminant)\n"
   ]
  },
  {
   "cell_type": "markdown",
   "metadata": {},
   "source": [
    "### Fit Generalized Additive Model with P-splines"
   ]
  },
  {
   "cell_type": "markdown",
   "metadata": {},
   "source": [
    "### Nikon"
   ]
  },
  {
   "cell_type": "code",
   "execution_count": 28,
   "metadata": {},
   "outputs": [
    {
     "name": "stdout",
     "output_type": "stream",
     "text": [
      "Testing GAMOptimizer with 5 splines and lambda 1e-06\n",
      "225\n",
      "---- RESULTS DeltaE Foster+CAVE with 5 splines and lambda 1e-06 ----\n",
      "DeltaE mean: 0.94\n",
      "DeltaE max: 4.81\n",
      "DeltaE median: 0.81\n",
      "DeltaE 95 percentile: 2.08\n",
      "DeltaE 99 percentile: 2.48\n",
      "Testing GAMOptimizer with 10 splines and lambda 0.0001\n",
      "900\n",
      "---- RESULTS DeltaE Foster+CAVE with 10 splines and lambda 0.0001 ----\n",
      "DeltaE mean: 0.86\n",
      "DeltaE max: 5.16\n",
      "DeltaE median: 0.73\n",
      "DeltaE 95 percentile: 1.94\n",
      "DeltaE 99 percentile: 2.45\n",
      "Testing GAMOptimizer with 20 splines and lambda 0.01\n",
      "3600\n",
      "---- RESULTS DeltaE Foster+CAVE with 20 splines and lambda 0.01 ----\n",
      "DeltaE mean: 0.83\n",
      "DeltaE max: 5.77\n",
      "DeltaE median: 0.71\n",
      "DeltaE 95 percentile: 1.92\n",
      "DeltaE 99 percentile: 2.42\n"
     ]
    }
   ],
   "source": [
    "from models import GAMOptimizer\n",
    "from evaluate import pred\n",
    "def test_gam_optimizer(splines_lams_dict, order_value=3):\n",
    "    \"\"\"\n",
    "    Test GAMOptimizer models with different numbers of splines and corresponding lambda values.\n",
    "\n",
    "    Parameters:\n",
    "    - splines_lams_dict: Dictionary where keys are spline numbers and values are the corresponding lambda values for regularization.\n",
    "    - order_value: The order of the spline. Default is 3.\n",
    "    \"\"\"\n",
    "    for n_splines, lams_value in splines_lams_dict.items():\n",
    "        print(f\"Testing GAMOptimizer with {n_splines} splines and lambda {lams_value}\")\n",
    "        gam = GAMOptimizer(lams=lams_value, order=order_value, n_splines=n_splines)\n",
    "        gam.fit(response_trainset_camera, response_trainset_xyz)\n",
    "        pred(gam, response_testset_camera, response_testset_xyz, f\"DeltaE Foster+CAVE with {n_splines} splines and lambda {lams_value}\")\n",
    "\n",
    "# Example usage: Create a dictionary mapping spline numbers to their corresponding lambda values and pass it to the function.\n",
    "splines_lams_dict = {\n",
    "    5: 1e-6,\n",
    "    10: 0.0001,\n",
    "    20: 0.01\n",
    "}\n",
    "if CAMERA == 'nikon':\n",
    "    test_gam_optimizer(splines_lams_dict)"
   ]
  },
  {
   "cell_type": "markdown",
   "metadata": {},
   "source": [
    "### Sigma"
   ]
  },
  {
   "cell_type": "code",
   "execution_count": 29,
   "metadata": {},
   "outputs": [],
   "source": [
    "def test_gam_optimizer(splines_lams_dict, order_value=3):\n",
    "    \"\"\"\n",
    "    Test GAMOptimizer models with different numbers of splines and corresponding lambda values.\n",
    "\n",
    "    Parameters:\n",
    "    - splines_lams_dict: Dictionary where keys are spline numbers and values are the corresponding lambda values for regularization.\n",
    "    - order_value: The order of the spline. Default is 3.\n",
    "    \"\"\"\n",
    "    for n_splines, lams_value in splines_lams_dict.items():\n",
    "        print(f\"Testing GAMOptimizer with {n_splines} splines and lambda {lams_value}\")\n",
    "        gam = GAMOptimizer(lams=lams_value, order=order_value, n_splines=n_splines)\n",
    "        gam.fit(response_trainset_camera, response_trainset_xyz)\n",
    "        pred(gam, response_testset_camera, response_testset_xyz, f\"{n_splines} splines and lambda {lams_value}\")\n",
    "\n",
    "# Example usage: Create a dictionary mapping spline numbers to their corresponding lambda values and pass it to the function.\n",
    "splines_lams_dict = {\n",
    "    5: 1e-9,\n",
    "    10: 0.0001,\n",
    "    20: 0.0001\n",
    "}\n",
    "if CAMERA == 'sigma':\n",
    "    test_gam_optimizer(splines_lams_dict)"
   ]
  },
  {
   "cell_type": "code",
   "execution_count": 30,
   "metadata": {},
   "outputs": [
    {
     "name": "stdout",
     "output_type": "stream",
     "text": [
      "Epoch 1, Loss: 0.0055784424766898155\n",
      "Epoch 2, Loss: 0.005691935773938894\n",
      "Epoch 3, Loss: 0.0007155074272304773\n",
      "Epoch 4, Loss: 0.0007036969182081521\n",
      "Epoch 5, Loss: 0.0016094653401523829\n",
      "Epoch 6, Loss: 0.0002593286626506597\n",
      "Epoch 7, Loss: 0.00022408370568882674\n",
      "Epoch 8, Loss: 0.00010509035200811923\n",
      "Epoch 9, Loss: 0.0014765344094485044\n",
      "Epoch 10, Loss: 7.533961615990847e-05\n",
      "Epoch 11, Loss: 7.688671030336991e-05\n",
      "Epoch 12, Loss: 0.00026393186999484897\n",
      "Epoch 13, Loss: 0.00014708584058098495\n",
      "Epoch 14, Loss: 4.673297735280357e-05\n",
      "Epoch 15, Loss: 1.6646559743094258e-05\n",
      "Epoch 16, Loss: 0.00020208604109939188\n",
      "Epoch 17, Loss: 1.6204572602873668e-05\n",
      "Epoch 18, Loss: 2.9028558856225573e-05\n",
      "Epoch 19, Loss: 2.6047468054457568e-05\n",
      "Epoch 20, Loss: 1.9646528016892262e-05\n",
      "Epoch 21, Loss: 1.4616281987400725e-05\n",
      "Epoch 22, Loss: 1.4016002751304768e-05\n",
      "Epoch 23, Loss: 2.885338744818e-06\n",
      "Epoch 24, Loss: 5.618491286440985e-06\n",
      "Epoch 25, Loss: 1.266285926249111e-05\n",
      "Epoch 26, Loss: 1.014912504615495e-05\n",
      "Epoch 27, Loss: 8.573681952839252e-06\n",
      "Epoch 28, Loss: 1.1850667760882061e-05\n",
      "Epoch 29, Loss: 1.030875773722073e-05\n",
      "Epoch 30, Loss: 1.012793381960364e-05\n",
      "Epoch 31, Loss: 5.377816250984324e-06\n",
      "Epoch 32, Loss: 1.1420852388255298e-05\n",
      "Epoch 33, Loss: 3.821906375378603e-06\n",
      "Epoch 34, Loss: 1.0452475180500187e-05\n",
      "Epoch 35, Loss: 1.066112508851802e-05\n",
      "Epoch 36, Loss: 1.3173224942875095e-05\n",
      "Epoch 37, Loss: 4.4635767153522465e-06\n",
      "Epoch 38, Loss: 3.98933434553328e-06\n",
      "Epoch 39, Loss: 1.2910739314975217e-05\n",
      "Epoch 40, Loss: 1.0020781701314263e-05\n",
      "Epoch 41, Loss: 2.205199416493997e-05\n",
      "Epoch 42, Loss: 8.93661126610823e-06\n",
      "Epoch 43, Loss: 1.124794471252244e-05\n",
      "Epoch 44, Loss: 2.6149562017963035e-06\n",
      "Epoch 45, Loss: 3.020593567271135e-06\n",
      "Epoch 46, Loss: 8.507797247148119e-06\n",
      "Epoch 47, Loss: 9.359162504551932e-06\n",
      "Epoch 48, Loss: 7.729128810751718e-06\n",
      "Epoch 49, Loss: 4.338242888479726e-06\n",
      "Epoch 50, Loss: 4.82990481032175e-06\n",
      "Epoch 51, Loss: 1.128109943238087e-05\n",
      "Epoch 52, Loss: 4.78090396427433e-06\n",
      "Epoch 53, Loss: 6.47186834612512e-06\n",
      "Epoch 54, Loss: 3.915229626727523e-06\n",
      "Epoch 55, Loss: 6.488277904281858e-06\n",
      "Epoch 56, Loss: 2.730842425080482e-06\n",
      "Epoch 57, Loss: 6.1531404753623065e-06\n",
      "Epoch 58, Loss: 2.825365072567365e-06\n",
      "Epoch 59, Loss: 6.448201929742936e-06\n",
      "Epoch 60, Loss: 1.8749667560769012e-06\n",
      "Epoch 61, Loss: 1.3574245713243727e-05\n",
      "Epoch 62, Loss: 9.510983545624185e-06\n",
      "Epoch 63, Loss: 3.3834658097475767e-06\n",
      "Epoch 64, Loss: 1.0867266610148363e-05\n",
      "Epoch 65, Loss: 4.939662176184356e-06\n",
      "---- RESULTS Foster 50 ----\n",
      "DeltaE mean: 1.21\n",
      "DeltaE max: 5.78\n",
      "DeltaE median: 1.08\n",
      "DeltaE 95 percentile: 2.46\n",
      "DeltaE 99 percentile: 3.33\n"
     ]
    }
   ],
   "source": [
    "from models import RGBtoXYZNetwork\n",
    "\n",
    "mcdonalds_nn = RGBtoXYZNetwork()\n",
    "mcdonalds_nn.fit(response_trainset_camera, response_trainset_xyz)\n",
    "pred(mcdonalds_nn, response_testset_camera, response_testset_xyz, \"Foster 50\")"
   ]
  },
  {
   "cell_type": "markdown",
   "metadata": {},
   "source": [
    "### Fit Linear Model"
   ]
  },
  {
   "cell_type": "code",
   "execution_count": 31,
   "metadata": {},
   "outputs": [
    {
     "name": "stdout",
     "output_type": "stream",
     "text": [
      "---- RESULTS Foster 50 ----\n",
      "DeltaE mean: 1.00\n",
      "DeltaE max: 5.56\n",
      "DeltaE median: 0.86\n",
      "DeltaE 95 percentile: 2.18\n",
      "DeltaE 99 percentile: 2.93\n"
     ]
    }
   ],
   "source": [
    "from sklearn.linear_model import LinearRegression\n",
    "\n",
    "linear = LinearRegression(fit_intercept=False)\n",
    "\n",
    "\n",
    "linear.fit(response_trainset_camera, response_trainset_xyz)\n",
    "pred(linear, response_testset_camera, response_testset_xyz, \"Foster 50\")\n"
   ]
  },
  {
   "cell_type": "code",
   "execution_count": 32,
   "metadata": {},
   "outputs": [
    {
     "name": "stdout",
     "output_type": "stream",
     "text": [
      "  message: Optimization terminated successfully.\n",
      "  success: True\n",
      "   status: 0\n",
      "      fun: 0.8916868419873166\n",
      "        x: [ 6.535e-01  2.491e-01  4.907e-02  2.453e-01  1.037e+00\n",
      "            -2.827e-01  4.326e-02 -2.874e-01  1.346e+00]\n",
      "      nit: 27\n",
      "      jac: [-6.981e-06 -5.931e-06 -5.685e-06  8.203e-06  6.892e-06\n",
      "             6.199e-06 -3.427e-07 -5.737e-07  3.800e-07]\n",
      " hess_inv: [[ 2.957e-02 -5.076e-02 ..., -3.721e-02  1.987e-02]\n",
      "            [-5.076e-02  1.424e-01 ...,  1.112e-01 -7.681e-02]\n",
      "            ..., \n",
      "            [-3.721e-02  1.112e-01 ...,  1.744e-01 -1.334e-01]\n",
      "            [ 1.987e-02 -7.681e-02 ..., -1.334e-01  1.311e-01]]\n",
      "     nfev: 410\n",
      "     njev: 41\n",
      "---- RESULTS DeltaE Foster+CAVE ----\n",
      "DeltaE mean: 0.94\n",
      "DeltaE max: 5.51\n",
      "DeltaE median: 0.81\n",
      "DeltaE 95 percentile: 2.04\n",
      "DeltaE 99 percentile: 2.66\n"
     ]
    }
   ],
   "source": [
    "from sklearn.pipeline import Pipeline\n",
    "from models import DeltaEOptimizer\n",
    "\n",
    "DE2000RP = Pipeline([\n",
    "    ('regressor', DeltaEOptimizer(root_polynomial=False, degree=1))\n",
    "])\n",
    "\n",
    "\n",
    "DE2000RP.fit(response_trainset_camera, response_trainset_xyz)\n",
    "pred(DE2000RP, response_testset_camera, response_testset_xyz, \"DeltaE Foster+CAVE\")"
   ]
  },
  {
   "cell_type": "markdown",
   "metadata": {},
   "source": [
    "### Fit 3rd order Root-Polynomial Model"
   ]
  },
  {
   "cell_type": "code",
   "execution_count": 33,
   "metadata": {},
   "outputs": [
    {
     "name": "stdout",
     "output_type": "stream",
     "text": [
      "---- RESULTS DeltaE Foster+CAVE ----\n",
      "DeltaE mean: 1.06\n",
      "DeltaE max: 5.69\n",
      "DeltaE median: 0.85\n",
      "DeltaE 95 percentile: 2.43\n",
      "DeltaE 99 percentile: 3.00\n"
     ]
    }
   ],
   "source": [
    "from models import PolynomialTransformer\n",
    "from sklearn.pipeline import Pipeline\n",
    "from sklearn.linear_model import LinearRegression\n",
    "\n",
    "RP_linear_3 = Pipeline([\n",
    "    ('transformer', PolynomialTransformer(degree=3, rp=True)),\n",
    "    ('regressor', LinearRegression(fit_intercept=False))\n",
    "])\n",
    "\n",
    "RP_linear_3.fit(response_trainset_camera, response_trainset_xyz)\n",
    "\n",
    "pred(RP_linear_3, response_testset_camera, response_testset_xyz, \"DeltaE Foster+CAVE\")\n"
   ]
  },
  {
   "cell_type": "markdown",
   "metadata": {},
   "source": [
    "### Fit a 2nd order Root-Polynomial Model"
   ]
  },
  {
   "cell_type": "code",
   "execution_count": 34,
   "metadata": {},
   "outputs": [
    {
     "name": "stdout",
     "output_type": "stream",
     "text": [
      "---- RESULTS DeltaE Foster+CAVE ----\n",
      "DeltaE mean: 1.05\n",
      "DeltaE max: 5.54\n",
      "DeltaE median: 0.84\n",
      "DeltaE 95 percentile: 2.44\n",
      "DeltaE 99 percentile: 3.06\n"
     ]
    }
   ],
   "source": [
    "from models import GAMOptimizer, PolynomialTransformer, DeltaEOptimizer\n",
    "from sklearn.pipeline import Pipeline\n",
    "from sklearn.linear_model import LinearRegression\n",
    "\n",
    "RP_linear_2 = Pipeline([\n",
    "    ('transformer', PolynomialTransformer(degree=2, rp=True)),\n",
    "    ('regressor', LinearRegression(fit_intercept=False))\n",
    "])\n",
    "\n",
    "\n",
    "RP_linear_2.fit(response_trainset_camera, response_trainset_xyz)\n",
    "pred(RP_linear_2, response_testset_camera, response_testset_xyz, \"DeltaE Foster+CAVE\")\n"
   ]
  },
  {
   "cell_type": "code",
   "execution_count": 35,
   "metadata": {},
   "outputs": [
    {
     "name": "stdout",
     "output_type": "stream",
     "text": [
      "---- RESULTS DeltaE Foster+CAVE ----\n",
      "DeltaE mean: 1.07\n",
      "DeltaE max: 5.40\n",
      "DeltaE median: 0.90\n",
      "DeltaE 95 percentile: 2.37\n",
      "DeltaE 99 percentile: 2.98\n"
     ]
    }
   ],
   "source": [
    "P_Linear_3 = Pipeline([\n",
    "    ('transformer', PolynomialTransformer(degree=3, rp=False)),\n",
    "    ('regressor', LinearRegression(fit_intercept=False))\n",
    "])\n",
    "\n",
    "\n",
    "P_Linear_3.fit(response_trainset_camera, response_trainset_xyz)\n",
    "pred(P_Linear_3, response_testset_camera, response_testset_xyz, \"DeltaE Foster+CAVE\")"
   ]
  },
  {
   "cell_type": "code",
   "execution_count": 36,
   "metadata": {},
   "outputs": [
    {
     "name": "stdout",
     "output_type": "stream",
     "text": [
      "---- RESULTS DeltaE Foster+CAVE ----\n",
      "DeltaE mean: 1.13\n",
      "DeltaE max: 5.58\n",
      "DeltaE median: 0.98\n",
      "DeltaE 95 percentile: 2.43\n",
      "DeltaE 99 percentile: 3.05\n"
     ]
    }
   ],
   "source": [
    "P_linear = Pipeline([\n",
    "    ('transformer', PolynomialTransformer(degree=2, rp=False)),\n",
    "    ('regressor', LinearRegression(fit_intercept=False))\n",
    "])\n",
    "\n",
    "\n",
    "P_linear.fit(response_trainset_camera, response_trainset_xyz)\n",
    "pred(P_linear, response_testset_camera, response_testset_xyz, \"DeltaE Foster+CAVE\")\n"
   ]
  },
  {
   "cell_type": "code",
   "execution_count": 37,
   "metadata": {},
   "outputs": [
    {
     "name": "stdout",
     "output_type": "stream",
     "text": [
      "  message: Optimization terminated successfully.\n",
      "  success: True\n",
      "   status: 0\n",
      "      fun: 0.6267925301544306\n",
      "        x: [ 6.477e-01  2.760e-01 ...,  5.061e-01 -2.041e+00]\n",
      "      nit: 292\n",
      "      jac: [-2.183e-06 -3.971e-06 ..., -7.823e-07  6.862e-06]\n",
      " hess_inv: [[ 1.050e-01 -1.371e-01 ...,  8.229e-01 -5.343e-01]\n",
      "            [-1.371e-01  4.222e-01 ..., -2.687e+00  3.698e+00]\n",
      "            ..., \n",
      "            [ 8.229e-01 -2.687e+00 ...,  6.292e+02 -7.718e+02]\n",
      "            [-5.343e-01  3.698e+00 ..., -7.718e+02  2.023e+03]]\n",
      "     nfev: 17632\n",
      "     njev: 304\n",
      "---- RESULTS DeltaE Foster+CAVE ----\n",
      "DeltaE mean: 0.91\n",
      "DeltaE max: 7.07\n",
      "DeltaE median: 0.77\n",
      "DeltaE 95 percentile: 2.03\n",
      "DeltaE 99 percentile: 2.49\n"
     ]
    }
   ],
   "source": [
    "from sklearn.pipeline import Pipeline\n",
    "from models import DeltaEOptimizer\n",
    "\n",
    "DE2000P = Pipeline([\n",
    "    ('regressor', DeltaEOptimizer(root_polynomial=False, degree=3))\n",
    "])\n",
    "\n",
    "\n",
    "DE2000P.fit(response_trainset_camera, response_trainset_xyz)\n",
    "pred(DE2000P, response_testset_camera, response_testset_xyz, \"DeltaE Foster+CAVE\")"
   ]
  },
  {
   "cell_type": "code",
   "execution_count": 38,
   "metadata": {},
   "outputs": [
    {
     "name": "stdout",
     "output_type": "stream",
     "text": [
      "  message: Optimization terminated successfully.\n",
      "  success: True\n",
      "   status: 0\n",
      "      fun: 0.6515607986652309\n",
      "        x: [ 2.071e-01 -8.932e+00 ...,  1.128e+01 -5.832e+00]\n",
      "      nit: 370\n",
      "      jac: [ 5.193e-06  8.725e-06 ...,  8.568e-07 -9.686e-08]\n",
      " hess_inv: [[ 3.512e+02  3.149e+02 ..., -5.469e+02 -9.327e+01]\n",
      "            [ 3.149e+02  2.566e+03 ..., -1.380e+03  1.681e+03]\n",
      "            ..., \n",
      "            [-5.469e+02 -1.380e+03 ...,  9.717e+03 -1.981e+02]\n",
      "            [-9.327e+01  1.681e+03 ..., -1.981e+02  5.972e+03]]\n",
      "     nfev: 15920\n",
      "     njev: 398\n",
      "---- RESULTS DeltaE Foster+CAVE ----\n",
      "DeltaE mean: 0.92\n",
      "DeltaE max: 8.04\n",
      "DeltaE median: 0.76\n",
      "DeltaE 95 percentile: 2.22\n",
      "DeltaE 99 percentile: 3.04\n"
     ]
    }
   ],
   "source": [
    "from sklearn.pipeline import Pipeline\n",
    "from models import DeltaEOptimizer\n",
    "\n",
    "DE2000RP = Pipeline([\n",
    "    ('regressor', DeltaEOptimizer(root_polynomial=True, degree=3))\n",
    "])\n",
    "\n",
    "\n",
    "DE2000RP.fit(response_trainset_camera, response_trainset_xyz)\n",
    "pred(DE2000RP, response_testset_camera, response_testset_xyz, \"DeltaE Foster+CAVE\")"
   ]
  }
 ],
 "metadata": {
  "interpreter": {
   "hash": "cf57dc982f5f7f7659d5105c425ec4d8a9bd6722199c7740e28d03845b9098c4"
  },
  "kernelspec": {
   "display_name": "Python 3.10.0 ('dippa')",
   "language": "python",
   "name": "python3"
  },
  "language_info": {
   "codemirror_mode": {
    "name": "ipython",
    "version": 3
   },
   "file_extension": ".py",
   "mimetype": "text/x-python",
   "name": "python",
   "nbconvert_exporter": "python",
   "pygments_lexer": "ipython3",
   "version": "3.10.4"
  },
  "orig_nbformat": 4
 },
 "nbformat": 4,
 "nbformat_minor": 2
}
