{
 "cells": [
  {
   "cell_type": "markdown",
   "metadata": {},
   "source": [
    "# Colour Correction using Splines"
   ]
  },
  {
   "cell_type": "markdown",
   "metadata": {},
   "source": [
    "### Define constants"
   ]
  },
  {
   "cell_type": "code",
   "execution_count": 5,
   "metadata": {},
   "outputs": [
    {
     "name": "stdout",
     "output_type": "stream",
     "text": [
      "The autoreload extension is already loaded. To reload it, use:\n",
      "  %reload_ext autoreload\n"
     ]
    }
   ],
   "source": [
    "%load_ext autoreload\n",
    "%autoreload 2\n",
    "import colour\n",
    "from data import load_dataset_sfu, load_dataset_csv, load_cmfs, load_camera, load_insitu, msds_to_rgb, msds_to_xyz, load_dataset_skin\n",
    "import numpy as np\n",
    "\n",
    "RANDOM_STATE = 0\n",
    "np.random.seed(RANDOM_STATE)\n",
    "    \n",
    "SFU_FILE_PATH = 'data/reflect_db.reflect'\n",
    "CAVE_FOSTER2004_PATH = 'data/cave_foster2002.csv'\n",
    "INSITU_PATH = \"data/insitu_dataset.csv\"\n",
    "CAVE_PATH = 'data/cave.csv'\n",
    "FOSTER_50_PATH = 'data/foster50.csv'\n",
    "CAMERA = 'sigma'"
   ]
  },
  {
   "cell_type": "code",
   "execution_count": 6,
   "metadata": {},
   "outputs": [],
   "source": [
    "\n",
    "# sfu_dataset = load_dataset_sfu(SFU_FILE_PATH)\n",
    "cave_foster2004_dataset = load_dataset_csv(CAVE_FOSTER2004_PATH)\n",
    "foster_50_dataset = load_dataset_csv(FOSTER_50_PATH)\n",
    "insitu = load_insitu(INSITU_PATH)\n",
    "# cave = load_dataset_csv(CAVE_PATH)\n",
    "# skin = load_dataset_skin()\n"
   ]
  },
  {
   "cell_type": "code",
   "execution_count": 7,
   "metadata": {},
   "outputs": [],
   "source": [
    "from plotting import plot_chromaticity_diagram\n",
    "TRAIN = cave_foster2004_dataset\n",
    "TEST = foster_50_dataset\n",
    "VALIDATION = insitu"
   ]
  },
  {
   "cell_type": "markdown",
   "metadata": {},
   "source": [
    "### Computing Observer Responses\n",
    "We can easily change the order of test and train sets here"
   ]
  },
  {
   "cell_type": "code",
   "execution_count": 8,
   "metadata": {},
   "outputs": [
    {
     "name": "stdout",
     "output_type": "stream",
     "text": [
      "[ 0.94940092  1.          1.08709122]\n",
      "[ 0.94940092  1.          1.08709122]\n",
      "[ 0.94940092  1.          1.08709122]\n"
     ]
    }
   ],
   "source": [
    "from plotting import plot_chromaticity_diagram\n",
    "\n",
    "cmfs, illuminant = load_cmfs()\n",
    "response_trainset_xyz = msds_to_xyz(TRAIN, cmfs, illuminant)\n",
    "response_testset_xyz = msds_to_xyz(TEST, cmfs, illuminant)\n",
    "response_validation_xyz = msds_to_xyz(VALIDATION, cmfs, illuminant)"
   ]
  },
  {
   "cell_type": "markdown",
   "metadata": {},
   "source": [
    "### Computing Camera Responses"
   ]
  },
  {
   "cell_type": "code",
   "execution_count": 10,
   "metadata": {},
   "outputs": [
    {
     "name": "stdout",
     "output_type": "stream",
     "text": [
      "[  938.7258382   1714.98576086  1939.82119587]\n",
      "[  938.7258382   1714.98576086  1939.82119587]\n",
      "[  938.7258382   1714.98576086  1939.82119587]\n"
     ]
    }
   ],
   "source": [
    "MSDS_TRAIN = load_camera(CAMERA)\n",
    "response_trainset_camera = msds_to_rgb(TRAIN,MSDS_TRAIN, illuminant)\n",
    "response_testset_camera = msds_to_rgb(TEST,MSDS_TRAIN, illuminant)\n",
    "response_validationset_camera = msds_to_rgb(VALIDATION,MSDS_TRAIN, illuminant)"
   ]
  },
  {
   "cell_type": "markdown",
   "metadata": {},
   "source": [
    "### Fit Generalized Additive Model with P-splines"
   ]
  },
  {
   "cell_type": "markdown",
   "metadata": {},
   "source": [
    "### Nikon"
   ]
  },
  {
   "cell_type": "code",
   "execution_count": 13,
   "metadata": {},
   "outputs": [
    {
     "name": "stderr",
     "output_type": "stream",
     "text": [
      "[autoreload of scipy.special._basic failed: Traceback (most recent call last):\n",
      "  File \"/Users/jsuominen/anaconda3/envs/mps/lib/python3.10/site-packages/IPython/extensions/autoreload.py\", line 276, in check\n",
      "    superreload(m, reload, self.old_objects)\n",
      "  File \"/Users/jsuominen/anaconda3/envs/mps/lib/python3.10/site-packages/IPython/extensions/autoreload.py\", line 500, in superreload\n",
      "    update_generic(old_obj, new_obj)\n",
      "  File \"/Users/jsuominen/anaconda3/envs/mps/lib/python3.10/site-packages/IPython/extensions/autoreload.py\", line 397, in update_generic\n",
      "    update(a, b)\n",
      "  File \"/Users/jsuominen/anaconda3/envs/mps/lib/python3.10/site-packages/IPython/extensions/autoreload.py\", line 309, in update_function\n",
      "    setattr(old, name, getattr(new, name))\n",
      "ValueError: comb() requires a code object with 5 free vars, not 0\n",
      "]\n",
      "[autoreload of scipy.linalg._decomp failed: Traceback (most recent call last):\n",
      "  File \"/Users/jsuominen/anaconda3/envs/mps/lib/python3.10/site-packages/IPython/extensions/autoreload.py\", line 276, in check\n",
      "    superreload(m, reload, self.old_objects)\n",
      "  File \"/Users/jsuominen/anaconda3/envs/mps/lib/python3.10/site-packages/IPython/extensions/autoreload.py\", line 500, in superreload\n",
      "    update_generic(old_obj, new_obj)\n",
      "  File \"/Users/jsuominen/anaconda3/envs/mps/lib/python3.10/site-packages/IPython/extensions/autoreload.py\", line 397, in update_generic\n",
      "    update(a, b)\n",
      "  File \"/Users/jsuominen/anaconda3/envs/mps/lib/python3.10/site-packages/IPython/extensions/autoreload.py\", line 309, in update_function\n",
      "    setattr(old, name, getattr(new, name))\n",
      "ValueError: eigh() requires a code object with 5 free vars, not 0\n",
      "]\n",
      "[autoreload of scipy.linalg._basic failed: Traceback (most recent call last):\n",
      "  File \"/Users/jsuominen/anaconda3/envs/mps/lib/python3.10/site-packages/IPython/extensions/autoreload.py\", line 276, in check\n",
      "    superreload(m, reload, self.old_objects)\n",
      "  File \"/Users/jsuominen/anaconda3/envs/mps/lib/python3.10/site-packages/IPython/extensions/autoreload.py\", line 500, in superreload\n",
      "    update_generic(old_obj, new_obj)\n",
      "  File \"/Users/jsuominen/anaconda3/envs/mps/lib/python3.10/site-packages/IPython/extensions/autoreload.py\", line 397, in update_generic\n",
      "    update(a, b)\n",
      "  File \"/Users/jsuominen/anaconda3/envs/mps/lib/python3.10/site-packages/IPython/extensions/autoreload.py\", line 309, in update_function\n",
      "    setattr(old, name, getattr(new, name))\n",
      "ValueError: pinv() requires a code object with 5 free vars, not 0\n",
      "]\n",
      "[autoreload of scipy.sparse.linalg._isolve.iterative failed: Traceback (most recent call last):\n",
      "  File \"/Users/jsuominen/anaconda3/envs/mps/lib/python3.10/site-packages/scipy/__init__.py\", line 192, in __getattr__\n",
      "    return globals()[name]\n",
      "KeyError: '_lib'\n",
      "\n",
      "During handling of the above exception, another exception occurred:\n",
      "\n",
      "Traceback (most recent call last):\n",
      "  File \"/Users/jsuominen/anaconda3/envs/mps/lib/python3.10/site-packages/IPython/extensions/autoreload.py\", line 276, in check\n",
      "    superreload(m, reload, self.old_objects)\n",
      "  File \"/Users/jsuominen/anaconda3/envs/mps/lib/python3.10/site-packages/IPython/extensions/autoreload.py\", line 475, in superreload\n",
      "    module = reload(module)\n",
      "  File \"/Users/jsuominen/anaconda3/envs/mps/lib/python3.10/importlib/__init__.py\", line 169, in reload\n",
      "    _bootstrap._exec(spec, module)\n",
      "  File \"<frozen importlib._bootstrap>\", line 619, in _exec\n",
      "  File \"<frozen importlib._bootstrap_external>\", line 883, in exec_module\n",
      "  File \"<frozen importlib._bootstrap>\", line 241, in _call_with_frames_removed\n",
      "  File \"/Users/jsuominen/anaconda3/envs/mps/lib/python3.10/site-packages/scipy/sparse/linalg/_isolve/iterative.py\", line 150, in <module>\n",
      "    def bicg(A, b, x0=None, tol=1e-5, maxiter=None, M=None, callback=None, atol=None):\n",
      "  File \"/Users/jsuominen/anaconda3/envs/mps/lib/python3.10/site-packages/scipy/_lib/_threadsafety.py\", line 57, in decorator\n",
      "    return lock.decorate(func)\n",
      "  File \"/Users/jsuominen/anaconda3/envs/mps/lib/python3.10/site-packages/scipy/_lib/_threadsafety.py\", line 45, in decorate\n",
      "    return scipy._lib.decorator.decorate(func, caller)\n",
      "  File \"/Users/jsuominen/anaconda3/envs/mps/lib/python3.10/site-packages/scipy/__init__.py\", line 194, in __getattr__\n",
      "    raise AttributeError(\n",
      "AttributeError: Module 'scipy' has no attribute '_lib'\n",
      "]\n",
      "[autoreload of scipy.sparse.linalg._isolve.minres failed: Traceback (most recent call last):\n",
      "  File \"/Users/jsuominen/anaconda3/envs/mps/lib/python3.10/site-packages/IPython/extensions/autoreload.py\", line 276, in check\n",
      "    superreload(m, reload, self.old_objects)\n",
      "  File \"/Users/jsuominen/anaconda3/envs/mps/lib/python3.10/site-packages/IPython/extensions/autoreload.py\", line 500, in superreload\n",
      "    update_generic(old_obj, new_obj)\n",
      "  File \"/Users/jsuominen/anaconda3/envs/mps/lib/python3.10/site-packages/IPython/extensions/autoreload.py\", line 397, in update_generic\n",
      "    update(a, b)\n",
      "  File \"/Users/jsuominen/anaconda3/envs/mps/lib/python3.10/site-packages/IPython/extensions/autoreload.py\", line 309, in update_function\n",
      "    setattr(old, name, getattr(new, name))\n",
      "ValueError: minres() requires a code object with 5 free vars, not 0\n",
      "]\n",
      "[autoreload of scipy.sparse.linalg._isolve._gcrotmk failed: Traceback (most recent call last):\n",
      "  File \"/Users/jsuominen/anaconda3/envs/mps/lib/python3.10/site-packages/IPython/extensions/autoreload.py\", line 276, in check\n",
      "    superreload(m, reload, self.old_objects)\n",
      "  File \"/Users/jsuominen/anaconda3/envs/mps/lib/python3.10/site-packages/IPython/extensions/autoreload.py\", line 500, in superreload\n",
      "    update_generic(old_obj, new_obj)\n",
      "  File \"/Users/jsuominen/anaconda3/envs/mps/lib/python3.10/site-packages/IPython/extensions/autoreload.py\", line 397, in update_generic\n",
      "    update(a, b)\n",
      "  File \"/Users/jsuominen/anaconda3/envs/mps/lib/python3.10/site-packages/IPython/extensions/autoreload.py\", line 309, in update_function\n",
      "    setattr(old, name, getattr(new, name))\n",
      "ValueError: gcrotmk() requires a code object with 5 free vars, not 0\n",
      "]\n",
      "[autoreload of scipy.sparse.linalg._isolve.lgmres failed: Traceback (most recent call last):\n",
      "  File \"/Users/jsuominen/anaconda3/envs/mps/lib/python3.10/site-packages/IPython/extensions/autoreload.py\", line 276, in check\n",
      "    superreload(m, reload, self.old_objects)\n",
      "  File \"/Users/jsuominen/anaconda3/envs/mps/lib/python3.10/site-packages/IPython/extensions/autoreload.py\", line 500, in superreload\n",
      "    update_generic(old_obj, new_obj)\n",
      "  File \"/Users/jsuominen/anaconda3/envs/mps/lib/python3.10/site-packages/IPython/extensions/autoreload.py\", line 397, in update_generic\n",
      "    update(a, b)\n",
      "  File \"/Users/jsuominen/anaconda3/envs/mps/lib/python3.10/site-packages/IPython/extensions/autoreload.py\", line 309, in update_function\n",
      "    setattr(old, name, getattr(new, name))\n",
      "ValueError: lgmres() requires a code object with 5 free vars, not 0\n",
      "]\n",
      "[autoreload of scipy.sparse.linalg._isolve.tfqmr failed: Traceback (most recent call last):\n",
      "  File \"/Users/jsuominen/anaconda3/envs/mps/lib/python3.10/site-packages/IPython/extensions/autoreload.py\", line 276, in check\n",
      "    superreload(m, reload, self.old_objects)\n",
      "  File \"/Users/jsuominen/anaconda3/envs/mps/lib/python3.10/site-packages/IPython/extensions/autoreload.py\", line 500, in superreload\n",
      "    update_generic(old_obj, new_obj)\n",
      "  File \"/Users/jsuominen/anaconda3/envs/mps/lib/python3.10/site-packages/IPython/extensions/autoreload.py\", line 397, in update_generic\n",
      "    update(a, b)\n",
      "  File \"/Users/jsuominen/anaconda3/envs/mps/lib/python3.10/site-packages/IPython/extensions/autoreload.py\", line 309, in update_function\n",
      "    setattr(old, name, getattr(new, name))\n",
      "ValueError: tfqmr() requires a code object with 5 free vars, not 0\n",
      "]\n",
      "[autoreload of scipy.interpolate._polyint failed: Traceback (most recent call last):\n",
      "  File \"/Users/jsuominen/anaconda3/envs/mps/lib/python3.10/site-packages/IPython/extensions/autoreload.py\", line 276, in check\n",
      "    superreload(m, reload, self.old_objects)\n",
      "  File \"/Users/jsuominen/anaconda3/envs/mps/lib/python3.10/site-packages/IPython/extensions/autoreload.py\", line 500, in superreload\n",
      "    update_generic(old_obj, new_obj)\n",
      "  File \"/Users/jsuominen/anaconda3/envs/mps/lib/python3.10/site-packages/IPython/extensions/autoreload.py\", line 397, in update_generic\n",
      "    update(a, b)\n",
      "  File \"/Users/jsuominen/anaconda3/envs/mps/lib/python3.10/site-packages/IPython/extensions/autoreload.py\", line 349, in update_class\n",
      "    if update_generic(old_obj, new_obj):\n",
      "  File \"/Users/jsuominen/anaconda3/envs/mps/lib/python3.10/site-packages/IPython/extensions/autoreload.py\", line 397, in update_generic\n",
      "    update(a, b)\n",
      "  File \"/Users/jsuominen/anaconda3/envs/mps/lib/python3.10/site-packages/IPython/extensions/autoreload.py\", line 309, in update_function\n",
      "    setattr(old, name, getattr(new, name))\n",
      "ValueError: __init__() requires a code object with 1 free vars, not 0\n",
      "]\n",
      "[autoreload of scipy.interpolate._interpolate failed: Traceback (most recent call last):\n",
      "  File \"/Users/jsuominen/anaconda3/envs/mps/lib/python3.10/site-packages/IPython/extensions/autoreload.py\", line 276, in check\n",
      "    superreload(m, reload, self.old_objects)\n",
      "  File \"/Users/jsuominen/anaconda3/envs/mps/lib/python3.10/site-packages/IPython/extensions/autoreload.py\", line 500, in superreload\n",
      "    update_generic(old_obj, new_obj)\n",
      "  File \"/Users/jsuominen/anaconda3/envs/mps/lib/python3.10/site-packages/IPython/extensions/autoreload.py\", line 397, in update_generic\n",
      "    update(a, b)\n",
      "  File \"/Users/jsuominen/anaconda3/envs/mps/lib/python3.10/site-packages/IPython/extensions/autoreload.py\", line 349, in update_class\n",
      "    if update_generic(old_obj, new_obj):\n",
      "  File \"/Users/jsuominen/anaconda3/envs/mps/lib/python3.10/site-packages/IPython/extensions/autoreload.py\", line 397, in update_generic\n",
      "    update(a, b)\n",
      "  File \"/Users/jsuominen/anaconda3/envs/mps/lib/python3.10/site-packages/IPython/extensions/autoreload.py\", line 309, in update_function\n",
      "    setattr(old, name, getattr(new, name))\n",
      "ValueError: __init__() requires a code object with 0 free vars, not 2\n",
      "]\n",
      "[autoreload of scipy.integrate._quadrature failed: Traceback (most recent call last):\n",
      "  File \"/Users/jsuominen/anaconda3/envs/mps/lib/python3.10/site-packages/IPython/extensions/autoreload.py\", line 276, in check\n",
      "    superreload(m, reload, self.old_objects)\n",
      "  File \"/Users/jsuominen/anaconda3/envs/mps/lib/python3.10/site-packages/IPython/extensions/autoreload.py\", line 500, in superreload\n",
      "    update_generic(old_obj, new_obj)\n",
      "  File \"/Users/jsuominen/anaconda3/envs/mps/lib/python3.10/site-packages/IPython/extensions/autoreload.py\", line 397, in update_generic\n",
      "    update(a, b)\n",
      "  File \"/Users/jsuominen/anaconda3/envs/mps/lib/python3.10/site-packages/IPython/extensions/autoreload.py\", line 309, in update_function\n",
      "    setattr(old, name, getattr(new, name))\n",
      "ValueError: quadrature() requires a code object with 3 free vars, not 0\n",
      "]\n",
      "[autoreload of scipy.stats._continuous_distns failed: Traceback (most recent call last):\n",
      "  File \"/Users/jsuominen/anaconda3/envs/mps/lib/python3.10/site-packages/IPython/extensions/autoreload.py\", line 276, in check\n",
      "    superreload(m, reload, self.old_objects)\n",
      "  File \"/Users/jsuominen/anaconda3/envs/mps/lib/python3.10/site-packages/IPython/extensions/autoreload.py\", line 500, in superreload\n",
      "    update_generic(old_obj, new_obj)\n",
      "  File \"/Users/jsuominen/anaconda3/envs/mps/lib/python3.10/site-packages/IPython/extensions/autoreload.py\", line 397, in update_generic\n",
      "    update(a, b)\n",
      "  File \"/Users/jsuominen/anaconda3/envs/mps/lib/python3.10/site-packages/IPython/extensions/autoreload.py\", line 349, in update_class\n",
      "    if update_generic(old_obj, new_obj):\n",
      "  File \"/Users/jsuominen/anaconda3/envs/mps/lib/python3.10/site-packages/IPython/extensions/autoreload.py\", line 397, in update_generic\n",
      "    update(a, b)\n",
      "  File \"/Users/jsuominen/anaconda3/envs/mps/lib/python3.10/site-packages/IPython/extensions/autoreload.py\", line 309, in update_function\n",
      "    setattr(old, name, getattr(new, name))\n",
      "ValueError: fit() requires a code object with 1 free vars, not 0\n",
      "]\n",
      "[autoreload of scipy.stats._entropy failed: Traceback (most recent call last):\n",
      "  File \"/Users/jsuominen/anaconda3/envs/mps/lib/python3.10/site-packages/IPython/extensions/autoreload.py\", line 276, in check\n",
      "    superreload(m, reload, self.old_objects)\n",
      "  File \"/Users/jsuominen/anaconda3/envs/mps/lib/python3.10/site-packages/IPython/extensions/autoreload.py\", line 500, in superreload\n",
      "    update_generic(old_obj, new_obj)\n",
      "  File \"/Users/jsuominen/anaconda3/envs/mps/lib/python3.10/site-packages/IPython/extensions/autoreload.py\", line 397, in update_generic\n",
      "    update(a, b)\n",
      "  File \"/Users/jsuominen/anaconda3/envs/mps/lib/python3.10/site-packages/IPython/extensions/autoreload.py\", line 309, in update_function\n",
      "    setattr(old, name, getattr(new, name))\n",
      "ValueError: entropy() requires a code object with 10 free vars, not 0\n",
      "]\n",
      "[autoreload of scipy.stats._hypotests failed: Traceback (most recent call last):\n",
      "  File \"/Users/jsuominen/anaconda3/envs/mps/lib/python3.10/site-packages/IPython/extensions/autoreload.py\", line 276, in check\n",
      "    superreload(m, reload, self.old_objects)\n",
      "  File \"/Users/jsuominen/anaconda3/envs/mps/lib/python3.10/site-packages/IPython/extensions/autoreload.py\", line 500, in superreload\n",
      "    update_generic(old_obj, new_obj)\n",
      "  File \"/Users/jsuominen/anaconda3/envs/mps/lib/python3.10/site-packages/IPython/extensions/autoreload.py\", line 397, in update_generic\n",
      "    update(a, b)\n",
      "  File \"/Users/jsuominen/anaconda3/envs/mps/lib/python3.10/site-packages/IPython/extensions/autoreload.py\", line 309, in update_function\n",
      "    setattr(old, name, getattr(new, name))\n",
      "ValueError: epps_singleton_2samp() requires a code object with 10 free vars, not 0\n",
      "]\n",
      "[autoreload of scipy.stats._stats_py failed: Traceback (most recent call last):\n",
      "  File \"/Users/jsuominen/anaconda3/envs/mps/lib/python3.10/site-packages/IPython/extensions/autoreload.py\", line 276, in check\n",
      "    superreload(m, reload, self.old_objects)\n",
      "  File \"/Users/jsuominen/anaconda3/envs/mps/lib/python3.10/site-packages/IPython/extensions/autoreload.py\", line 500, in superreload\n",
      "    update_generic(old_obj, new_obj)\n",
      "  File \"/Users/jsuominen/anaconda3/envs/mps/lib/python3.10/site-packages/IPython/extensions/autoreload.py\", line 397, in update_generic\n",
      "    update(a, b)\n",
      "  File \"/Users/jsuominen/anaconda3/envs/mps/lib/python3.10/site-packages/IPython/extensions/autoreload.py\", line 309, in update_function\n",
      "    setattr(old, name, getattr(new, name))\n",
      "ValueError: tmean() requires a code object with 10 free vars, not 0\n",
      "]\n",
      "[autoreload of scipy.stats._variation failed: Traceback (most recent call last):\n",
      "  File \"/Users/jsuominen/anaconda3/envs/mps/lib/python3.10/site-packages/IPython/extensions/autoreload.py\", line 276, in check\n",
      "    superreload(m, reload, self.old_objects)\n",
      "  File \"/Users/jsuominen/anaconda3/envs/mps/lib/python3.10/site-packages/IPython/extensions/autoreload.py\", line 500, in superreload\n",
      "    update_generic(old_obj, new_obj)\n",
      "  File \"/Users/jsuominen/anaconda3/envs/mps/lib/python3.10/site-packages/IPython/extensions/autoreload.py\", line 397, in update_generic\n",
      "    update(a, b)\n",
      "  File \"/Users/jsuominen/anaconda3/envs/mps/lib/python3.10/site-packages/IPython/extensions/autoreload.py\", line 309, in update_function\n",
      "    setattr(old, name, getattr(new, name))\n",
      "ValueError: variation() requires a code object with 10 free vars, not 0\n",
      "]\n",
      "[autoreload of scipy.stats._morestats failed: Traceback (most recent call last):\n",
      "  File \"/Users/jsuominen/anaconda3/envs/mps/lib/python3.10/site-packages/IPython/extensions/autoreload.py\", line 276, in check\n",
      "    superreload(m, reload, self.old_objects)\n",
      "  File \"/Users/jsuominen/anaconda3/envs/mps/lib/python3.10/site-packages/IPython/extensions/autoreload.py\", line 500, in superreload\n",
      "    update_generic(old_obj, new_obj)\n",
      "  File \"/Users/jsuominen/anaconda3/envs/mps/lib/python3.10/site-packages/IPython/extensions/autoreload.py\", line 397, in update_generic\n",
      "    update(a, b)\n",
      "  File \"/Users/jsuominen/anaconda3/envs/mps/lib/python3.10/site-packages/IPython/extensions/autoreload.py\", line 309, in update_function\n",
      "    setattr(old, name, getattr(new, name))\n",
      "ValueError: ansari() requires a code object with 10 free vars, not 0\n",
      "]\n",
      "[autoreload of scipy.stats._multivariate failed: Traceback (most recent call last):\n",
      "  File \"/Users/jsuominen/anaconda3/envs/mps/lib/python3.10/site-packages/IPython/extensions/autoreload.py\", line 276, in check\n",
      "    superreload(m, reload, self.old_objects)\n",
      "  File \"/Users/jsuominen/anaconda3/envs/mps/lib/python3.10/site-packages/IPython/extensions/autoreload.py\", line 500, in superreload\n",
      "    update_generic(old_obj, new_obj)\n",
      "  File \"/Users/jsuominen/anaconda3/envs/mps/lib/python3.10/site-packages/IPython/extensions/autoreload.py\", line 397, in update_generic\n",
      "    update(a, b)\n",
      "  File \"/Users/jsuominen/anaconda3/envs/mps/lib/python3.10/site-packages/IPython/extensions/autoreload.py\", line 349, in update_class\n",
      "    if update_generic(old_obj, new_obj):\n",
      "  File \"/Users/jsuominen/anaconda3/envs/mps/lib/python3.10/site-packages/IPython/extensions/autoreload.py\", line 397, in update_generic\n",
      "    update(a, b)\n",
      "  File \"/Users/jsuominen/anaconda3/envs/mps/lib/python3.10/site-packages/IPython/extensions/autoreload.py\", line 309, in update_function\n",
      "    setattr(old, name, getattr(new, name))\n",
      "ValueError: _rvs() requires a code object with 0 free vars, not 1\n",
      "]\n"
     ]
    },
    {
     "ename": "ModuleNotFoundError",
     "evalue": "No module named 'matplotlib.gridspec'; 'matplotlib' is not a package",
     "output_type": "error",
     "traceback": [
      "\u001b[0;31m---------------------------------------------------------------------------\u001b[0m",
      "\u001b[0;31mModuleNotFoundError\u001b[0m                       Traceback (most recent call last)",
      "Cell \u001b[0;32mIn[13], line 3\u001b[0m\n\u001b[1;32m      1\u001b[0m \u001b[38;5;28;01mfrom\u001b[39;00m \u001b[38;5;21;01msklearn\u001b[39;00m\u001b[38;5;21;01m.\u001b[39;00m\u001b[38;5;21;01mmetrics\u001b[39;00m \u001b[38;5;28;01mimport\u001b[39;00m make_scorer\n\u001b[1;32m      2\u001b[0m \u001b[38;5;28;01mfrom\u001b[39;00m \u001b[38;5;21;01mcolour_math\u001b[39;00m \u001b[38;5;28;01mimport\u001b[39;00m deltae_mean\n\u001b[0;32m----> 3\u001b[0m \u001b[38;5;28;01mfrom\u001b[39;00m \u001b[38;5;21;01mmodels\u001b[39;00m \u001b[38;5;28;01mimport\u001b[39;00m GAMOptimizer\n\u001b[1;32m      4\u001b[0m \u001b[38;5;28;01mfrom\u001b[39;00m \u001b[38;5;21;01mevaluate\u001b[39;00m \u001b[38;5;28;01mimport\u001b[39;00m pred\n\u001b[1;32m      5\u001b[0m np\u001b[38;5;241m.\u001b[39mint \u001b[38;5;241m=\u001b[39m np\u001b[38;5;241m.\u001b[39mint64\n",
      "File \u001b[0;32m~/Desktop/Personal/CameraCalibration/models.py:10\u001b[0m\n\u001b[1;32m      8\u001b[0m \u001b[38;5;28;01mfrom\u001b[39;00m \u001b[38;5;21;01mpygam\u001b[39;00m \u001b[38;5;28;01mimport\u001b[39;00m LinearGAM, te, GammaGAM\n\u001b[1;32m      9\u001b[0m \u001b[38;5;28;01mimport\u001b[39;00m \u001b[38;5;21;01mmatplotlib\u001b[39;00m\u001b[38;5;21;01m.\u001b[39;00m\u001b[38;5;21;01mpyplot\u001b[39;00m \u001b[38;5;28;01mas\u001b[39;00m \u001b[38;5;21;01mplt\u001b[39;00m\n\u001b[0;32m---> 10\u001b[0m \u001b[38;5;28;01mimport\u001b[39;00m \u001b[38;5;21;01mmatplotlib\u001b[39;00m\u001b[38;5;21;01m.\u001b[39;00m\u001b[38;5;21;01mgridspec\u001b[39;00m \u001b[38;5;28;01mas\u001b[39;00m \u001b[38;5;21;01mgridspec\u001b[39;00m\n\u001b[1;32m     11\u001b[0m \u001b[38;5;28;01mfrom\u001b[39;00m \u001b[38;5;21;01mmatplotlib\u001b[39;00m \u001b[38;5;28;01mimport\u001b[39;00m cm\n\u001b[1;32m     14\u001b[0m \u001b[38;5;28;01mclass\u001b[39;00m \u001b[38;5;21;01mPolynomialTransformer\u001b[39;00m(BaseEstimator, TransformerMixin):\n",
      "\u001b[0;31mModuleNotFoundError\u001b[0m: No module named 'matplotlib.gridspec'; 'matplotlib' is not a package"
     ]
    }
   ],
   "source": [
    "from sklearn.metrics import make_scorer\n",
    "from colour_math import deltae_mean\n",
    "from models import GAMOptimizer\n",
    "from evaluate import pred\n",
    "np.int = np.int64\n",
    "if CAMERA == 'nikon':\n",
    "    # gam = GAMOptimizer(lams=1e-6, order=3, n_splines=5)\n",
    "    \n",
    "    # gam = GAMOptimizer(lams=0.0001,order=3, n_splines=10)\n",
    "    gam = GAMOptimizer(lams=0.01,order=3, n_splines=20)\n",
    "\n",
    "    gam.fit(response_trainset_camera, response_trainset_xyz)\n",
    "\n",
    "    pred(gam, response_testset_camera, response_testset_xyz, \"DeltaE Foster+CAVE\")"
   ]
  },
  {
   "cell_type": "markdown",
   "metadata": {},
   "source": [
    "### Sigma"
   ]
  },
  {
   "cell_type": "code",
   "execution_count": null,
   "metadata": {},
   "outputs": [
    {
     "name": "stdout",
     "output_type": "stream",
     "text": [
      "3600\n",
      "---- RESULTS DeltaE Foster+CAVE ----\n",
      "DeltaE mean: 1.73\n",
      "DeltaE max: 16.95\n",
      "DeltaE median: 1.46\n",
      "DeltaE 95 percentile: 4.00\n",
      "DeltaE 99 percentile: 5.94\n"
     ]
    }
   ],
   "source": [
    "from sklearn.metrics import make_scorer\n",
    "from colour_math import deltae_mean\n",
    "from models import GAMOptimizer\n",
    "from evaluate import pred\n",
    "np.int = np.int64\n",
    "if CAMERA == 'sigma':\n",
    "    # gam = GAMOptimizer(lams=1e-9, order=3, n_splines=5)\n",
    "    # gam = GAMOptimizer(lams=0.0001,order=3, n_splines=10)\n",
    "    gam = GAMOptimizer(lams=0.0001,order=3, n_splines=20)\n",
    "\n",
    "    gam.fit(response_trainset_camera, response_trainset_xyz)\n",
    "\n",
    "    pred(gam, response_testset_camera, response_testset_xyz, \"DeltaE Foster+CAVE\")"
   ]
  },
  {
   "cell_type": "markdown",
   "metadata": {},
   "source": [
    "### Fit Linear Model"
   ]
  },
  {
   "cell_type": "code",
   "execution_count": null,
   "metadata": {},
   "outputs": [
    {
     "name": "stdout",
     "output_type": "stream",
     "text": [
      "---- RESULTS Foster 50 ----\n",
      "DeltaE mean: 2.20\n",
      "DeltaE max: 23.49\n",
      "DeltaE median: 1.52\n",
      "DeltaE 95 percentile: 6.98\n",
      "DeltaE 99 percentile: 10.56\n"
     ]
    }
   ],
   "source": [
    "from sklearn.linear_model import LinearRegression\n",
    "\n",
    "linear = LinearRegression(fit_intercept=False)\n",
    "\n",
    "\n",
    "linear.fit(response_trainset_camera, response_trainset_xyz)\n",
    "pred(linear, response_testset_camera, response_testset_xyz, \"Foster 50\")\n"
   ]
  },
  {
   "cell_type": "code",
   "execution_count": null,
   "metadata": {},
   "outputs": [
    {
     "name": "stdout",
     "output_type": "stream",
     "text": [
      "  message: Optimization terminated successfully.\n",
      "  success: True\n",
      "   status: 0\n",
      "      fun: 2.6196741857\n",
      "        x: [ 8.371e-01 -5.934e-01  6.989e-01 -4.839e-01  1.788e+00\n",
      "            -2.987e-01  9.454e-01 -4.451e+00  4.568e+00]\n",
      "      nit: 30\n",
      "      jac: [-6.855e-07 -2.384e-07  1.192e-07  2.116e-06  1.281e-06\n",
      "             8.941e-07 -1.103e-06 -7.153e-07 -5.662e-07]\n",
      " hess_inv: [[ 1.267e+00 -2.835e+00 ..., -2.499e+00  1.543e+00]\n",
      "            [-2.835e+00  7.029e+00 ...,  6.286e+00 -4.030e+00]\n",
      "            ..., \n",
      "            [-2.499e+00  6.286e+00 ...,  1.043e+01 -6.902e+00]\n",
      "            [ 1.543e+00 -4.030e+00 ..., -6.902e+00  4.731e+00]]\n",
      "     nfev: 370\n",
      "     njev: 37\n",
      "---- RESULTS DeltaE Foster+CAVE ----\n",
      "DeltaE mean: 2.57\n",
      "DeltaE max: 19.60\n",
      "DeltaE median: 2.15\n",
      "DeltaE 95 percentile: 5.59\n",
      "DeltaE 99 percentile: 7.84\n"
     ]
    }
   ],
   "source": [
    "from sklearn.pipeline import Pipeline\n",
    "from models import DeltaEOptimizer\n",
    "\n",
    "DE2000RP = Pipeline([\n",
    "    ('regressor', DeltaEOptimizer(root_polynomial=False, degree=1))\n",
    "])\n",
    "\n",
    "\n",
    "DE2000RP.fit(response_trainset_camera, response_trainset_xyz)\n",
    "pred(DE2000RP, response_testset_camera, response_testset_xyz, \"DeltaE Foster+CAVE\")"
   ]
  },
  {
   "cell_type": "markdown",
   "metadata": {},
   "source": [
    "### Fit 3rd order Root-Polynomial Model"
   ]
  },
  {
   "cell_type": "code",
   "execution_count": null,
   "metadata": {},
   "outputs": [
    {
     "name": "stdout",
     "output_type": "stream",
     "text": [
      "---- RESULTS DeltaE Foster+CAVE ----\n",
      "DeltaE mean: 2.32\n",
      "DeltaE max: 34.32\n",
      "DeltaE median: 1.65\n",
      "DeltaE 95 percentile: 6.90\n",
      "DeltaE 99 percentile: 11.37\n"
     ]
    }
   ],
   "source": [
    "from models import PolynomialTransformer\n",
    "from sklearn.pipeline import Pipeline\n",
    "from sklearn.linear_model import LinearRegression\n",
    "\n",
    "RP_linear_3 = Pipeline([\n",
    "    ('transformer', PolynomialTransformer(degree=3, rp=True)),\n",
    "    ('regressor', LinearRegression(fit_intercept=False))\n",
    "])\n",
    "\n",
    "RP_linear_3.fit(response_trainset_camera, response_trainset_xyz)\n",
    "\n",
    "pred(RP_linear_3, response_testset_camera, response_testset_xyz, \"DeltaE Foster+CAVE\")\n"
   ]
  },
  {
   "cell_type": "markdown",
   "metadata": {},
   "source": [
    "### Fit a 2nd order Root-Polynomial Model"
   ]
  },
  {
   "cell_type": "code",
   "execution_count": null,
   "metadata": {},
   "outputs": [
    {
     "name": "stdout",
     "output_type": "stream",
     "text": [
      "---- RESULTS DeltaE Foster+CAVE ----\n",
      "DeltaE mean: 2.17\n",
      "DeltaE max: 25.38\n",
      "DeltaE median: 1.50\n",
      "DeltaE 95 percentile: 6.84\n",
      "DeltaE 99 percentile: 10.04\n"
     ]
    }
   ],
   "source": [
    "from models import GAMOptimizer, PolynomialTransformer, DeltaEOptimizer\n",
    "from sklearn.pipeline import Pipeline\n",
    "from sklearn.linear_model import LinearRegression\n",
    "\n",
    "RP_linear_2 = Pipeline([\n",
    "    ('transformer', PolynomialTransformer(degree=2, rp=True)),\n",
    "    ('regressor', LinearRegression(fit_intercept=False))\n",
    "])\n",
    "\n",
    "\n",
    "RP_linear_2.fit(response_trainset_camera, response_trainset_xyz)\n",
    "pred(RP_linear_2, response_testset_camera, response_testset_xyz, \"DeltaE Foster+CAVE\")\n"
   ]
  },
  {
   "cell_type": "code",
   "execution_count": null,
   "metadata": {},
   "outputs": [
    {
     "name": "stdout",
     "output_type": "stream",
     "text": [
      "---- RESULTS DeltaE Foster+CAVE ----\n",
      "DeltaE mean: 1.92\n",
      "DeltaE max: 20.78\n",
      "DeltaE median: 1.49\n",
      "DeltaE 95 percentile: 5.01\n",
      "DeltaE 99 percentile: 8.16\n"
     ]
    }
   ],
   "source": [
    "P_Linear_3 = Pipeline([\n",
    "    ('transformer', PolynomialTransformer(degree=3, rp=False)),\n",
    "    ('regressor', LinearRegression(fit_intercept=False))\n",
    "])\n",
    "\n",
    "\n",
    "P_Linear_3.fit(response_trainset_camera, response_trainset_xyz)\n",
    "pred(P_Linear_3, response_testset_camera, response_testset_xyz, \"DeltaE Foster+CAVE\")"
   ]
  },
  {
   "cell_type": "code",
   "execution_count": null,
   "metadata": {},
   "outputs": [
    {
     "name": "stdout",
     "output_type": "stream",
     "text": [
      "---- RESULTS DeltaE Foster+CAVE ----\n",
      "DeltaE mean: 2.02\n",
      "DeltaE max: 22.07\n",
      "DeltaE median: 1.49\n",
      "DeltaE 95 percentile: 5.82\n",
      "DeltaE 99 percentile: 9.20\n"
     ]
    }
   ],
   "source": [
    "P_linear = Pipeline([\n",
    "    ('transformer', PolynomialTransformer(degree=2, rp=False)),\n",
    "    ('regressor', LinearRegression(fit_intercept=False))\n",
    "])\n",
    "\n",
    "\n",
    "P_linear.fit(response_trainset_camera, response_trainset_xyz)\n",
    "pred(P_linear, response_testset_camera, response_testset_xyz, \"DeltaE Foster+CAVE\")\n"
   ]
  },
  {
   "cell_type": "code",
   "execution_count": null,
   "metadata": {},
   "outputs": [
    {
     "name": "stdout",
     "output_type": "stream",
     "text": [
      "  message: Desired error not necessarily achieved due to precision loss.\n",
      "  success: False\n",
      "   status: 2\n",
      "      fun: 1.53974279145\n",
      "        x: [ 8.419e-01 -6.158e-01 ..., -7.217e+00  2.435e+00]\n",
      "      nit: 247\n",
      "      jac: [-1.507e-03 -1.429e-03 ..., -3.873e-04 -3.987e-04]\n",
      " hess_inv: [[ 2.252e+00 -4.106e+00 ..., -1.094e+01 -1.686e+00]\n",
      "            [-4.106e+00  9.558e+00 ...,  1.947e+00  1.647e+01]\n",
      "            ..., \n",
      "            [-1.094e+01  1.947e+00 ...,  3.280e+03 -1.957e+03]\n",
      "            [-1.686e+00  1.647e+01 ..., -1.957e+03  1.573e+03]]\n",
      "     nfev: 17869\n",
      "     njev: 308\n",
      "---- RESULTS DeltaE Foster+CAVE ----\n",
      "DeltaE mean: 1.98\n",
      "DeltaE max: 17.92\n",
      "DeltaE median: 1.74\n",
      "DeltaE 95 percentile: 4.42\n",
      "DeltaE 99 percentile: 6.38\n"
     ]
    }
   ],
   "source": [
    "from sklearn.pipeline import Pipeline\n",
    "from models import DeltaEOptimizer\n",
    "\n",
    "DE2000P = Pipeline([\n",
    "    ('regressor', DeltaEOptimizer(root_polynomial=False, degree=3))\n",
    "])\n",
    "\n",
    "\n",
    "DE2000P.fit(response_trainset_camera, response_trainset_xyz)\n",
    "pred(DE2000P, response_testset_camera, response_testset_xyz, \"DeltaE Foster+CAVE\")"
   ]
  },
  {
   "cell_type": "code",
   "execution_count": null,
   "metadata": {},
   "outputs": [
    {
     "name": "stdout",
     "output_type": "stream",
     "text": [
      "  message: Desired error not necessarily achieved due to precision loss.\n",
      "  success: False\n",
      "   status: 2\n",
      "      fun: 1.608765511\n",
      "        x: [ 7.303e+01 -4.322e+02 ..., -6.789e+01  1.045e+02]\n",
      "      nit: 343\n",
      "      jac: [-5.868e-04 -5.814e-04 ...,  1.741e-04  2.467e-04]\n",
      " hess_inv: [[ 2.178e+03  2.090e+03 ...,  1.096e+03 -4.136e+03]\n",
      "            [ 2.090e+03  3.924e+03 ...,  1.335e+03 -6.900e+03]\n",
      "            ..., \n",
      "            [ 1.095e+03  1.335e+03 ...,  8.042e+03 -3.848e+03]\n",
      "            [-4.137e+03 -6.902e+03 ..., -3.850e+03  1.726e+04]]\n",
      "     nfev: 15880\n",
      "     njev: 397\n",
      "---- RESULTS DeltaE Foster+CAVE ----\n",
      "DeltaE mean: 2.02\n",
      "DeltaE max: 43.46\n",
      "DeltaE median: 1.36\n",
      "DeltaE 95 percentile: 5.54\n",
      "DeltaE 99 percentile: 9.71\n"
     ]
    }
   ],
   "source": [
    "from sklearn.pipeline import Pipeline\n",
    "from models import DeltaEOptimizer\n",
    "\n",
    "DE2000RP = Pipeline([\n",
    "    ('regressor', DeltaEOptimizer(root_polynomial=True, degree=3))\n",
    "])\n",
    "\n",
    "\n",
    "DE2000RP.fit(response_trainset_camera, response_trainset_xyz)\n",
    "pred(DE2000RP, response_testset_camera, response_testset_xyz, \"DeltaE Foster+CAVE\")"
   ]
  }
 ],
 "metadata": {
  "interpreter": {
   "hash": "cf57dc982f5f7f7659d5105c425ec4d8a9bd6722199c7740e28d03845b9098c4"
  },
  "kernelspec": {
   "display_name": "Python 3.10.0 ('dippa')",
   "language": "python",
   "name": "python3"
  },
  "language_info": {
   "codemirror_mode": {
    "name": "ipython",
    "version": 3
   },
   "file_extension": ".py",
   "mimetype": "text/x-python",
   "name": "python",
   "nbconvert_exporter": "python",
   "pygments_lexer": "ipython3",
   "version": "3.10.4"
  },
  "orig_nbformat": 4
 },
 "nbformat": 4,
 "nbformat_minor": 2
}
